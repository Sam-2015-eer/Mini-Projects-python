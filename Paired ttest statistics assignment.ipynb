{
 "cells": [
  {
   "cell_type": "raw",
   "id": "89d52d41",
   "metadata": {},
   "source": [
    "Problem Statement:we have to figure out whether the test taken or the scoring ability after the session of statistics i.e Post-statistics score is different from the pre_statistics test using the students test ability dataset."
   ]
  },
  {
   "cell_type": "code",
   "execution_count": 1,
   "id": "28b251b6",
   "metadata": {},
   "outputs": [],
   "source": [
    "#importing required libraries from python\n",
    "import pandas as pd\n",
    "import matplotlib.pyplot as plt\n",
    "import pingouin as pg\n",
    "from pingouin import ttest"
   ]
  },
  {
   "cell_type": "code",
   "execution_count": 2,
   "id": "a11929b2",
   "metadata": {},
   "outputs": [
    {
     "data": {
      "text/html": [
       "<div>\n",
       "<style scoped>\n",
       "    .dataframe tbody tr th:only-of-type {\n",
       "        vertical-align: middle;\n",
       "    }\n",
       "\n",
       "    .dataframe tbody tr th {\n",
       "        vertical-align: top;\n",
       "    }\n",
       "\n",
       "    .dataframe thead th {\n",
       "        text-align: right;\n",
       "    }\n",
       "</style>\n",
       "<table border=\"1\" class=\"dataframe\">\n",
       "  <thead>\n",
       "    <tr style=\"text-align: right;\">\n",
       "      <th></th>\n",
       "      <th>Students</th>\n",
       "      <th>Pre_statistics</th>\n",
       "      <th>Post_statistics</th>\n",
       "    </tr>\n",
       "  </thead>\n",
       "  <tbody>\n",
       "    <tr>\n",
       "      <th>0</th>\n",
       "      <td>A</td>\n",
       "      <td>42</td>\n",
       "      <td>92</td>\n",
       "    </tr>\n",
       "    <tr>\n",
       "      <th>1</th>\n",
       "      <td>B</td>\n",
       "      <td>41</td>\n",
       "      <td>75</td>\n",
       "    </tr>\n",
       "    <tr>\n",
       "      <th>2</th>\n",
       "      <td>C</td>\n",
       "      <td>50</td>\n",
       "      <td>93</td>\n",
       "    </tr>\n",
       "    <tr>\n",
       "      <th>3</th>\n",
       "      <td>D</td>\n",
       "      <td>37</td>\n",
       "      <td>97</td>\n",
       "    </tr>\n",
       "    <tr>\n",
       "      <th>4</th>\n",
       "      <td>E</td>\n",
       "      <td>33</td>\n",
       "      <td>65</td>\n",
       "    </tr>\n",
       "    <tr>\n",
       "      <th>5</th>\n",
       "      <td>F</td>\n",
       "      <td>48</td>\n",
       "      <td>78</td>\n",
       "    </tr>\n",
       "    <tr>\n",
       "      <th>6</th>\n",
       "      <td>G</td>\n",
       "      <td>44</td>\n",
       "      <td>94</td>\n",
       "    </tr>\n",
       "    <tr>\n",
       "      <th>7</th>\n",
       "      <td>H</td>\n",
       "      <td>58</td>\n",
       "      <td>91</td>\n",
       "    </tr>\n",
       "    <tr>\n",
       "      <th>8</th>\n",
       "      <td>I</td>\n",
       "      <td>49</td>\n",
       "      <td>84</td>\n",
       "    </tr>\n",
       "    <tr>\n",
       "      <th>9</th>\n",
       "      <td>J</td>\n",
       "      <td>53</td>\n",
       "      <td>81</td>\n",
       "    </tr>\n",
       "    <tr>\n",
       "      <th>10</th>\n",
       "      <td>K</td>\n",
       "      <td>25</td>\n",
       "      <td>69</td>\n",
       "    </tr>\n",
       "    <tr>\n",
       "      <th>11</th>\n",
       "      <td>L</td>\n",
       "      <td>49</td>\n",
       "      <td>79</td>\n",
       "    </tr>\n",
       "    <tr>\n",
       "      <th>12</th>\n",
       "      <td>M</td>\n",
       "      <td>43</td>\n",
       "      <td>83</td>\n",
       "    </tr>\n",
       "    <tr>\n",
       "      <th>13</th>\n",
       "      <td>N</td>\n",
       "      <td>43</td>\n",
       "      <td>78</td>\n",
       "    </tr>\n",
       "    <tr>\n",
       "      <th>14</th>\n",
       "      <td>O</td>\n",
       "      <td>42</td>\n",
       "      <td>86</td>\n",
       "    </tr>\n",
       "    <tr>\n",
       "      <th>15</th>\n",
       "      <td>P</td>\n",
       "      <td>63</td>\n",
       "      <td>93</td>\n",
       "    </tr>\n",
       "    <tr>\n",
       "      <th>16</th>\n",
       "      <td>Q</td>\n",
       "      <td>68</td>\n",
       "      <td>92</td>\n",
       "    </tr>\n",
       "    <tr>\n",
       "      <th>17</th>\n",
       "      <td>R</td>\n",
       "      <td>42</td>\n",
       "      <td>83</td>\n",
       "    </tr>\n",
       "    <tr>\n",
       "      <th>18</th>\n",
       "      <td>S</td>\n",
       "      <td>32</td>\n",
       "      <td>76</td>\n",
       "    </tr>\n",
       "    <tr>\n",
       "      <th>19</th>\n",
       "      <td>T</td>\n",
       "      <td>58</td>\n",
       "      <td>88</td>\n",
       "    </tr>\n",
       "    <tr>\n",
       "      <th>20</th>\n",
       "      <td>U</td>\n",
       "      <td>58</td>\n",
       "      <td>91</td>\n",
       "    </tr>\n",
       "    <tr>\n",
       "      <th>21</th>\n",
       "      <td>V</td>\n",
       "      <td>51</td>\n",
       "      <td>86</td>\n",
       "    </tr>\n",
       "    <tr>\n",
       "      <th>22</th>\n",
       "      <td>W</td>\n",
       "      <td>63</td>\n",
       "      <td>87</td>\n",
       "    </tr>\n",
       "    <tr>\n",
       "      <th>23</th>\n",
       "      <td>X</td>\n",
       "      <td>32</td>\n",
       "      <td>79</td>\n",
       "    </tr>\n",
       "    <tr>\n",
       "      <th>24</th>\n",
       "      <td>Y</td>\n",
       "      <td>49</td>\n",
       "      <td>89</td>\n",
       "    </tr>\n",
       "    <tr>\n",
       "      <th>25</th>\n",
       "      <td>Z</td>\n",
       "      <td>55</td>\n",
       "      <td>95</td>\n",
       "    </tr>\n",
       "  </tbody>\n",
       "</table>\n",
       "</div>"
      ],
      "text/plain": [
       "   Students  Pre_statistics  Post_statistics\n",
       "0         A              42               92\n",
       "1         B              41               75\n",
       "2         C              50               93\n",
       "3         D              37               97\n",
       "4         E              33               65\n",
       "5         F              48               78\n",
       "6         G              44               94\n",
       "7         H              58               91\n",
       "8         I              49               84\n",
       "9         J              53               81\n",
       "10        K              25               69\n",
       "11        L              49               79\n",
       "12        M              43               83\n",
       "13        N              43               78\n",
       "14        O              42               86\n",
       "15        P              63               93\n",
       "16        Q              68               92\n",
       "17        R              42               83\n",
       "18        S              32               76\n",
       "19        T              58               88\n",
       "20        U              58               91\n",
       "21        V              51               86\n",
       "22        W              63               87\n",
       "23        X              32               79\n",
       "24        Y              49               89\n",
       "25        Z              55               95"
      ]
     },
     "execution_count": 2,
     "metadata": {},
     "output_type": "execute_result"
    }
   ],
   "source": [
    "#importing read files to read out the data from the excel file\n",
    "from pandas import read_excel\n",
    "df = pd.read_excel('Assignment-I.xlsx')\n",
    "df"
   ]
  },
  {
   "cell_type": "markdown",
   "id": "14a5f795",
   "metadata": {},
   "source": [
    "# Q1. What type of data is it? -Discrete data type(Numerical)"
   ]
  },
  {
   "cell_type": "markdown",
   "id": "e4bfcb4a",
   "metadata": {},
   "source": [
    "# Q2. Null hypothesis(H0): There is no difference after his Class\n",
    "#    Alternate hypothesis(H1): There is a difference after the class"
   ]
  },
  {
   "cell_type": "code",
   "execution_count": 4,
   "id": "f867f521",
   "metadata": {},
   "outputs": [
    {
     "data": {
      "text/html": [
       "<div>\n",
       "<style scoped>\n",
       "    .dataframe tbody tr th:only-of-type {\n",
       "        vertical-align: middle;\n",
       "    }\n",
       "\n",
       "    .dataframe tbody tr th {\n",
       "        vertical-align: top;\n",
       "    }\n",
       "\n",
       "    .dataframe thead th {\n",
       "        text-align: right;\n",
       "    }\n",
       "</style>\n",
       "<table border=\"1\" class=\"dataframe\">\n",
       "  <thead>\n",
       "    <tr style=\"text-align: right;\">\n",
       "      <th></th>\n",
       "      <th>Students</th>\n",
       "      <th>Pre_statistics</th>\n",
       "      <th>Post_statistics</th>\n",
       "      <th>difference</th>\n",
       "    </tr>\n",
       "  </thead>\n",
       "  <tbody>\n",
       "    <tr>\n",
       "      <th>0</th>\n",
       "      <td>A</td>\n",
       "      <td>42</td>\n",
       "      <td>92</td>\n",
       "      <td>50</td>\n",
       "    </tr>\n",
       "    <tr>\n",
       "      <th>1</th>\n",
       "      <td>B</td>\n",
       "      <td>41</td>\n",
       "      <td>75</td>\n",
       "      <td>34</td>\n",
       "    </tr>\n",
       "    <tr>\n",
       "      <th>2</th>\n",
       "      <td>C</td>\n",
       "      <td>50</td>\n",
       "      <td>93</td>\n",
       "      <td>43</td>\n",
       "    </tr>\n",
       "    <tr>\n",
       "      <th>3</th>\n",
       "      <td>D</td>\n",
       "      <td>37</td>\n",
       "      <td>97</td>\n",
       "      <td>60</td>\n",
       "    </tr>\n",
       "    <tr>\n",
       "      <th>4</th>\n",
       "      <td>E</td>\n",
       "      <td>33</td>\n",
       "      <td>65</td>\n",
       "      <td>32</td>\n",
       "    </tr>\n",
       "    <tr>\n",
       "      <th>5</th>\n",
       "      <td>F</td>\n",
       "      <td>48</td>\n",
       "      <td>78</td>\n",
       "      <td>30</td>\n",
       "    </tr>\n",
       "    <tr>\n",
       "      <th>6</th>\n",
       "      <td>G</td>\n",
       "      <td>44</td>\n",
       "      <td>94</td>\n",
       "      <td>50</td>\n",
       "    </tr>\n",
       "    <tr>\n",
       "      <th>7</th>\n",
       "      <td>H</td>\n",
       "      <td>58</td>\n",
       "      <td>91</td>\n",
       "      <td>33</td>\n",
       "    </tr>\n",
       "    <tr>\n",
       "      <th>8</th>\n",
       "      <td>I</td>\n",
       "      <td>49</td>\n",
       "      <td>84</td>\n",
       "      <td>35</td>\n",
       "    </tr>\n",
       "    <tr>\n",
       "      <th>9</th>\n",
       "      <td>J</td>\n",
       "      <td>53</td>\n",
       "      <td>81</td>\n",
       "      <td>28</td>\n",
       "    </tr>\n",
       "    <tr>\n",
       "      <th>10</th>\n",
       "      <td>K</td>\n",
       "      <td>25</td>\n",
       "      <td>69</td>\n",
       "      <td>44</td>\n",
       "    </tr>\n",
       "    <tr>\n",
       "      <th>11</th>\n",
       "      <td>L</td>\n",
       "      <td>49</td>\n",
       "      <td>79</td>\n",
       "      <td>30</td>\n",
       "    </tr>\n",
       "    <tr>\n",
       "      <th>12</th>\n",
       "      <td>M</td>\n",
       "      <td>43</td>\n",
       "      <td>83</td>\n",
       "      <td>40</td>\n",
       "    </tr>\n",
       "    <tr>\n",
       "      <th>13</th>\n",
       "      <td>N</td>\n",
       "      <td>43</td>\n",
       "      <td>78</td>\n",
       "      <td>35</td>\n",
       "    </tr>\n",
       "    <tr>\n",
       "      <th>14</th>\n",
       "      <td>O</td>\n",
       "      <td>42</td>\n",
       "      <td>86</td>\n",
       "      <td>44</td>\n",
       "    </tr>\n",
       "    <tr>\n",
       "      <th>15</th>\n",
       "      <td>P</td>\n",
       "      <td>63</td>\n",
       "      <td>93</td>\n",
       "      <td>30</td>\n",
       "    </tr>\n",
       "    <tr>\n",
       "      <th>16</th>\n",
       "      <td>Q</td>\n",
       "      <td>68</td>\n",
       "      <td>92</td>\n",
       "      <td>24</td>\n",
       "    </tr>\n",
       "    <tr>\n",
       "      <th>17</th>\n",
       "      <td>R</td>\n",
       "      <td>42</td>\n",
       "      <td>83</td>\n",
       "      <td>41</td>\n",
       "    </tr>\n",
       "    <tr>\n",
       "      <th>18</th>\n",
       "      <td>S</td>\n",
       "      <td>32</td>\n",
       "      <td>76</td>\n",
       "      <td>44</td>\n",
       "    </tr>\n",
       "    <tr>\n",
       "      <th>19</th>\n",
       "      <td>T</td>\n",
       "      <td>58</td>\n",
       "      <td>88</td>\n",
       "      <td>30</td>\n",
       "    </tr>\n",
       "    <tr>\n",
       "      <th>20</th>\n",
       "      <td>U</td>\n",
       "      <td>58</td>\n",
       "      <td>91</td>\n",
       "      <td>33</td>\n",
       "    </tr>\n",
       "    <tr>\n",
       "      <th>21</th>\n",
       "      <td>V</td>\n",
       "      <td>51</td>\n",
       "      <td>86</td>\n",
       "      <td>35</td>\n",
       "    </tr>\n",
       "    <tr>\n",
       "      <th>22</th>\n",
       "      <td>W</td>\n",
       "      <td>63</td>\n",
       "      <td>87</td>\n",
       "      <td>24</td>\n",
       "    </tr>\n",
       "    <tr>\n",
       "      <th>23</th>\n",
       "      <td>X</td>\n",
       "      <td>32</td>\n",
       "      <td>79</td>\n",
       "      <td>47</td>\n",
       "    </tr>\n",
       "    <tr>\n",
       "      <th>24</th>\n",
       "      <td>Y</td>\n",
       "      <td>49</td>\n",
       "      <td>89</td>\n",
       "      <td>40</td>\n",
       "    </tr>\n",
       "    <tr>\n",
       "      <th>25</th>\n",
       "      <td>Z</td>\n",
       "      <td>55</td>\n",
       "      <td>95</td>\n",
       "      <td>40</td>\n",
       "    </tr>\n",
       "  </tbody>\n",
       "</table>\n",
       "</div>"
      ],
      "text/plain": [
       "   Students  Pre_statistics  Post_statistics  difference\n",
       "0         A              42               92          50\n",
       "1         B              41               75          34\n",
       "2         C              50               93          43\n",
       "3         D              37               97          60\n",
       "4         E              33               65          32\n",
       "5         F              48               78          30\n",
       "6         G              44               94          50\n",
       "7         H              58               91          33\n",
       "8         I              49               84          35\n",
       "9         J              53               81          28\n",
       "10        K              25               69          44\n",
       "11        L              49               79          30\n",
       "12        M              43               83          40\n",
       "13        N              43               78          35\n",
       "14        O              42               86          44\n",
       "15        P              63               93          30\n",
       "16        Q              68               92          24\n",
       "17        R              42               83          41\n",
       "18        S              32               76          44\n",
       "19        T              58               88          30\n",
       "20        U              58               91          33\n",
       "21        V              51               86          35\n",
       "22        W              63               87          24\n",
       "23        X              32               79          47\n",
       "24        Y              49               89          40\n",
       "25        Z              55               95          40"
      ]
     },
     "execution_count": 4,
     "metadata": {},
     "output_type": "execute_result"
    }
   ],
   "source": [
    "df['difference']=df['Post_statistics']-df['Pre_statistics']\n",
    "df\n",
    "#we define the difference column and the method to calculate it Post-Pre or Pre-post"
   ]
  },
  {
   "cell_type": "raw",
   "id": "08cab1fd",
   "metadata": {},
   "source": [
    "We try to check for the Normality of each column here to get a better view using plots and p value from Pingouin library"
   ]
  },
  {
   "cell_type": "code",
   "execution_count": 5,
   "id": "86ab507f",
   "metadata": {},
   "outputs": [
    {
     "data": {
      "text/html": [
       "<div>\n",
       "<style scoped>\n",
       "    .dataframe tbody tr th:only-of-type {\n",
       "        vertical-align: middle;\n",
       "    }\n",
       "\n",
       "    .dataframe tbody tr th {\n",
       "        vertical-align: top;\n",
       "    }\n",
       "\n",
       "    .dataframe thead th {\n",
       "        text-align: right;\n",
       "    }\n",
       "</style>\n",
       "<table border=\"1\" class=\"dataframe\">\n",
       "  <thead>\n",
       "    <tr style=\"text-align: right;\">\n",
       "      <th></th>\n",
       "      <th>W</th>\n",
       "      <th>pval</th>\n",
       "      <th>normal</th>\n",
       "    </tr>\n",
       "  </thead>\n",
       "  <tbody>\n",
       "    <tr>\n",
       "      <th>Pre_statistics</th>\n",
       "      <td>0.981553</td>\n",
       "      <td>0.905028</td>\n",
       "      <td>True</td>\n",
       "    </tr>\n",
       "    <tr>\n",
       "      <th>Post_statistics</th>\n",
       "      <td>0.953257</td>\n",
       "      <td>0.276061</td>\n",
       "      <td>True</td>\n",
       "    </tr>\n",
       "    <tr>\n",
       "      <th>difference</th>\n",
       "      <td>0.957720</td>\n",
       "      <td>0.348664</td>\n",
       "      <td>True</td>\n",
       "    </tr>\n",
       "  </tbody>\n",
       "</table>\n",
       "</div>"
      ],
      "text/plain": [
       "                        W      pval  normal\n",
       "Pre_statistics   0.981553  0.905028    True\n",
       "Post_statistics  0.953257  0.276061    True\n",
       "difference       0.957720  0.348664    True"
      ]
     },
     "execution_count": 5,
     "metadata": {},
     "output_type": "execute_result"
    }
   ],
   "source": [
    "pg.normality(df)\n",
    "#Calling the normality method from the pingouin library for our dataframe to get the pval and normality status."
   ]
  },
  {
   "cell_type": "code",
   "execution_count": 6,
   "id": "dff58261",
   "metadata": {},
   "outputs": [
    {
     "data": {
      "text/plain": [
       "<AxesSubplot:title={'center':'Q-Q Plot'}, xlabel='Theoretical quantiles', ylabel='Ordered quantiles'>"
      ]
     },
     "execution_count": 6,
     "metadata": {},
     "output_type": "execute_result"
    },
    {
     "data": {
      "image/png": "[encoded data removed]",
      "text/plain": [
       "<Figure size 360x288 with 1 Axes>"
      ]
     },
     "metadata": {
      "needs_background": "light"
     },
     "output_type": "display_data"
    }
   ],
   "source": [
    "pg.qqplot(df['Pre_statistics'], dist='norm')\n",
    "#qqplot for Pre data points"
   ]
  },
  {
   "cell_type": "code",
   "execution_count": 7,
   "id": "c7c73b86",
   "metadata": {},
   "outputs": [
    {
     "data": {
      "text/plain": [
       "<AxesSubplot:title={'center':'Q-Q Plot'}, xlabel='Theoretical quantiles', ylabel='Ordered quantiles'>"
      ]
     },
     "execution_count": 7,
     "metadata": {},
     "output_type": "execute_result"
    },
    {
     "data": {
      "image/png": "[encoded data removed]",
      "text/plain": [
       "<Figure size 360x288 with 1 Axes>"
      ]
     },
     "metadata": {
      "needs_background": "light"
     },
     "output_type": "display_data"
    }
   ],
   "source": [
    "pg.qqplot(df['Post_statistics'], dist='norm')\n",
    "#qqplot for Post data points"
   ]
  },
  {
   "cell_type": "markdown",
   "id": "3782da45",
   "metadata": {},
   "source": [
    "# Q4. We create a QQ plot to see the difference is normally distributed or not? -Yes it is"
   ]
  },
  {
   "cell_type": "code",
   "execution_count": 8,
   "id": "b9230929",
   "metadata": {},
   "outputs": [
    {
     "data": {
      "text/plain": [
       "<AxesSubplot:title={'center':'Q-Q Plot'}, xlabel='Theoretical quantiles', ylabel='Ordered quantiles'>"
      ]
     },
     "execution_count": 8,
     "metadata": {},
     "output_type": "execute_result"
    },
    {
     "data": {
      "image/png": "[encoded data removed]",
      "text/plain": [
       "<Figure size 360x288 with 1 Axes>"
      ]
     },
     "metadata": {
      "needs_background": "light"
     },
     "output_type": "display_data"
    }
   ],
   "source": [
    "pg.qqplot(df['difference'], dist='norm')\n",
    "#quantile plot for our \"difference\" column is showing us it is normally distributed (which is our assumption is correct)."
   ]
  },
  {
   "cell_type": "code",
   "execution_count": 13,
   "id": "62b32f5b",
   "metadata": {},
   "outputs": [
    {
     "data": {
      "text/plain": [
       "{'whiskers': [<matplotlib.lines.Line2D at 0x221fe5a3bb0>,\n",
       "  <matplotlib.lines.Line2D at 0x221fe5a3f10>,\n",
       "  <matplotlib.lines.Line2D at 0x221fe5bd3d0>,\n",
       "  <matplotlib.lines.Line2D at 0x221fe5bd730>,\n",
       "  <matplotlib.lines.Line2D at 0x221fe5c7bb0>,\n",
       "  <matplotlib.lines.Line2D at 0x221fe5c7f10>],\n",
       " 'caps': [<matplotlib.lines.Line2D at 0x221fe5af2b0>,\n",
       "  <matplotlib.lines.Line2D at 0x221fe5af610>,\n",
       "  <matplotlib.lines.Line2D at 0x221fe5bda90>,\n",
       "  <matplotlib.lines.Line2D at 0x221fe5bddf0>,\n",
       "  <matplotlib.lines.Line2D at 0x221fe5d52b0>,\n",
       "  <matplotlib.lines.Line2D at 0x221fe5d5610>],\n",
       " 'boxes': [<matplotlib.lines.Line2D at 0x221fe5a3850>,\n",
       "  <matplotlib.lines.Line2D at 0x221fe5bd070>,\n",
       "  <matplotlib.lines.Line2D at 0x221fe5c7850>],\n",
       " 'medians': [<matplotlib.lines.Line2D at 0x221fe5af970>,\n",
       "  <matplotlib.lines.Line2D at 0x221fe5c7190>,\n",
       "  <matplotlib.lines.Line2D at 0x221fe5d5970>],\n",
       " 'fliers': [<matplotlib.lines.Line2D at 0x221fe5afcd0>,\n",
       "  <matplotlib.lines.Line2D at 0x221fe5c74f0>,\n",
       "  <matplotlib.lines.Line2D at 0x221fe5d5cd0>],\n",
       " 'means': []}"
      ]
     },
     "execution_count": 13,
     "metadata": {},
     "output_type": "execute_result"
    },
    {
     "data": {
      "image/png": "[encoded data removed]",
      "text/plain": [
       "<Figure size 432x288 with 1 Axes>"
      ]
     },
     "metadata": {
      "needs_background": "light"
     },
     "output_type": "display_data"
    }
   ],
   "source": [
    "plot=[df['Pre_statistics'],df['Post_statistics'],df['difference']]\n",
    "plt.boxplot(plot)\n",
    "#attempt to show the contrast among the three column in boxplot and difference of the variable along with the data points."
   ]
  },
  {
   "cell_type": "code",
   "execution_count": 16,
   "id": "72bd53e4",
   "metadata": {},
   "outputs": [
    {
     "data": {
      "text/plain": [
       "(array([1., 1., 0., 2., 4., 4., 3., 2., 6., 3.]),\n",
       " array([65. , 68.2, 71.4, 74.6, 77.8, 81. , 84.2, 87.4, 90.6, 93.8, 97. ]),\n",
       " <BarContainer object of 10 artists>)"
      ]
     },
     "execution_count": 16,
     "metadata": {},
     "output_type": "execute_result"
    },
    {
     "data": {
      "image/png": "[encoded data removed]",
      "text/plain": [
       "<Figure size 432x288 with 1 Axes>"
      ]
     },
     "metadata": {
      "needs_background": "light"
     },
     "output_type": "display_data"
    }
   ],
   "source": [
    "plt.hist(df['Post_statistics'],color='blue')\n",
    "#histogram for Post_stat score data points"
   ]
  },
  {
   "cell_type": "code",
   "execution_count": 15,
   "id": "f26f1b97",
   "metadata": {},
   "outputs": [
    {
     "data": {
      "text/plain": [
       "(array([1., 3., 1., 4., 3., 5., 3., 3., 2., 1.]),\n",
       " array([25. , 29.3, 33.6, 37.9, 42.2, 46.5, 50.8, 55.1, 59.4, 63.7, 68. ]),\n",
       " <BarContainer object of 10 artists>)"
      ]
     },
     "execution_count": 15,
     "metadata": {},
     "output_type": "execute_result"
    },
    {
     "data": {
      "image/png": "[encoded data removed]",
      "text/plain": [
       "<Figure size 432x288 with 1 Axes>"
      ]
     },
     "metadata": {
      "needs_background": "light"
     },
     "output_type": "display_data"
    }
   ],
   "source": [
    "plt.hist(df['Pre_statistics'],color='magenta')\n",
    "#histogram for Pre_stat score"
   ]
  },
  {
   "cell_type": "code",
   "execution_count": 14,
   "id": "3b2ae4a4",
   "metadata": {},
   "outputs": [
    {
     "data": {
      "text/plain": [
       "(array([2., 5., 4., 3., 4., 4., 1., 2., 0., 1.]),\n",
       " array([24. , 27.6, 31.2, 34.8, 38.4, 42. , 45.6, 49.2, 52.8, 56.4, 60. ]),\n",
       " <BarContainer object of 10 artists>)"
      ]
     },
     "execution_count": 14,
     "metadata": {},
     "output_type": "execute_result"
    },
    {
     "data": {
      "image/png": "[encoded data removed]",
      "text/plain": [
       "<Figure size 432x288 with 1 Axes>"
      ]
     },
     "metadata": {
      "needs_background": "light"
     },
     "output_type": "display_data"
    }
   ],
   "source": [
    "plt.hist(df['difference'],color='red')\n",
    "# we can see here the data is normally distributed and hence we can perform our ttest on paired variables"
   ]
  },
  {
   "cell_type": "markdown",
   "id": "7317ae44",
   "metadata": {},
   "source": [
    "# Q6. Best plot to see the difference between the after and before session ."
   ]
  },
  {
   "cell_type": "code",
   "execution_count": 19,
   "id": "49aa08d1",
   "metadata": {},
   "outputs": [],
   "source": [
    "data=[df['Pre_statistics'],df['Post_statistics']]\n",
    "#to show the contrast between the pre_statistics score and Post_statistics score ,we store into data variable"
   ]
  },
  {
   "cell_type": "code",
   "execution_count": 20,
   "id": "6761b367",
   "metadata": {},
   "outputs": [
    {
     "data": {
      "text/plain": [
       "{'whiskers': [<matplotlib.lines.Line2D at 0x221fe799070>,\n",
       "  <matplotlib.lines.Line2D at 0x221fe799370>,\n",
       "  <matplotlib.lines.Line2D at 0x221fe7a5760>,\n",
       "  <matplotlib.lines.Line2D at 0x221fe7a5a00>],\n",
       " 'caps': [<matplotlib.lines.Line2D at 0x221fe799670>,\n",
       "  <matplotlib.lines.Line2D at 0x221fe7999d0>,\n",
       "  <matplotlib.lines.Line2D at 0x221fe7a5d60>,\n",
       "  <matplotlib.lines.Line2D at 0x221fe7af100>],\n",
       " 'boxes': [<matplotlib.lines.Line2D at 0x221fe789d30>,\n",
       "  <matplotlib.lines.Line2D at 0x221fe7a5430>],\n",
       " 'medians': [<matplotlib.lines.Line2D at 0x221fe799d30>,\n",
       "  <matplotlib.lines.Line2D at 0x221fe7af460>],\n",
       " 'fliers': [<matplotlib.lines.Line2D at 0x221fe7a50d0>,\n",
       "  <matplotlib.lines.Line2D at 0x221fe7af7c0>],\n",
       " 'means': []}"
      ]
     },
     "execution_count": 20,
     "metadata": {},
     "output_type": "execute_result"
    },
    {
     "data": {
      "image/png": "[encoded data removed]",
      "text/plain": [
       "<Figure size 432x288 with 1 Axes>"
      ]
     },
     "metadata": {
      "needs_background": "light"
     },
     "output_type": "display_data"
    }
   ],
   "source": [
    "plt.boxplot(data)\n",
    "#calling the matplotlib and argument as data variable created above."
   ]
  },
  {
   "cell_type": "code",
   "execution_count": 21,
   "id": "dbca6103",
   "metadata": {},
   "outputs": [],
   "source": [
    "# Creating short hand variable for the dataset or data points from the dataset and storing it in these variable.\n",
    "Pre=df['Pre_statistics']\n",
    "Post=df['Post_statistics']\n",
    "diff=df['difference']"
   ]
  },
  {
   "cell_type": "markdown",
   "id": "cef48e8e",
   "metadata": {},
   "source": [
    "# Q3. Using Shapiro wil test we calculate that the difference of the variable is normally distributed or not?"
   ]
  },
  {
   "cell_type": "code",
   "execution_count": 25,
   "id": "31bfe907",
   "metadata": {},
   "outputs": [],
   "source": [
    "from scipy.stats import shapiro"
   ]
  },
  {
   "cell_type": "code",
   "execution_count": 26,
   "id": "6c91ec2b",
   "metadata": {},
   "outputs": [
    {
     "data": {
      "text/plain": [
       "ShapiroResult(statistic=0.9577199220657349, pvalue=0.3486637473106384)"
      ]
     },
     "execution_count": 26,
     "metadata": {},
     "output_type": "execute_result"
    }
   ],
   "source": [
    "shapiro(diff)\n",
    "#Important for our study "
   ]
  },
  {
   "cell_type": "markdown",
   "id": "dbcaccaa",
   "metadata": {},
   "source": [
    "### It is clear from the graph and shapiro test that our p-value is not significant >0.05 .Therefore, We failed to reject the Null Hypothesis(H0) i.e There is no difference after and before session."
   ]
  },
  {
   "cell_type": "code",
   "execution_count": 27,
   "id": "f9a58295",
   "metadata": {},
   "outputs": [
    {
     "data": {
      "text/plain": [
       "ShapiroResult(statistic=0.9815525412559509, pvalue=0.9050275087356567)"
      ]
     },
     "execution_count": 27,
     "metadata": {},
     "output_type": "execute_result"
    }
   ],
   "source": [
    "shapiro(Pre)"
   ]
  },
  {
   "cell_type": "code",
   "execution_count": 28,
   "id": "5d9ad60e",
   "metadata": {},
   "outputs": [
    {
     "data": {
      "text/plain": [
       "ShapiroResult(statistic=0.9532567858695984, pvalue=0.2760609984397888)"
      ]
     },
     "execution_count": 28,
     "metadata": {},
     "output_type": "execute_result"
    }
   ],
   "source": [
    "shapiro(Post)"
   ]
  },
  {
   "cell_type": "markdown",
   "id": "e3da69a3",
   "metadata": {},
   "source": [
    "# Q5. Measure of Central tendency and Dispersion of data points and difference of the variable"
   ]
  },
  {
   "cell_type": "raw",
   "id": "29cd67f0",
   "metadata": {},
   "source": [
    "Since, each column in the dataset(Pre and Post) has p-val > 0.05 ,It is the case of normal distribution and hence Mean and standard deviation is the required measure of central tendency and measure of dispersion using the pandas library."
   ]
  },
  {
   "cell_type": "code",
   "execution_count": 29,
   "id": "e7c2f267",
   "metadata": {},
   "outputs": [
    {
     "data": {
      "text/plain": [
       "47.23076923076923"
      ]
     },
     "execution_count": 29,
     "metadata": {},
     "output_type": "execute_result"
    }
   ],
   "source": [
    "Pre.mean()"
   ]
  },
  {
   "cell_type": "code",
   "execution_count": 30,
   "id": "7f465d0c",
   "metadata": {},
   "outputs": [
    {
     "data": {
      "text/plain": [
       "10.648221231013911"
      ]
     },
     "execution_count": 30,
     "metadata": {},
     "output_type": "execute_result"
    }
   ],
   "source": [
    "Pre.std()"
   ]
  },
  {
   "cell_type": "code",
   "execution_count": 31,
   "id": "1508142c",
   "metadata": {},
   "outputs": [
    {
     "data": {
      "text/plain": [
       "84.76923076923077"
      ]
     },
     "execution_count": 31,
     "metadata": {},
     "output_type": "execute_result"
    }
   ],
   "source": [
    "Post.mean()"
   ]
  },
  {
   "cell_type": "code",
   "execution_count": 32,
   "id": "692ae11f",
   "metadata": {},
   "outputs": [
    {
     "data": {
      "text/plain": [
       "8.208813275048676"
      ]
     },
     "execution_count": 32,
     "metadata": {},
     "output_type": "execute_result"
    }
   ],
   "source": [
    "Post.std()"
   ]
  },
  {
   "cell_type": "markdown",
   "id": "803f7781",
   "metadata": {},
   "source": [
    "We are only interested in \"difference\" column for paired t-test.the mean and standard deviation of the difference column are:"
   ]
  },
  {
   "cell_type": "code",
   "execution_count": 33,
   "id": "86a49570",
   "metadata": {},
   "outputs": [
    {
     "data": {
      "text/plain": [
       "37.53846153846154"
      ]
     },
     "execution_count": 33,
     "metadata": {},
     "output_type": "execute_result"
    }
   ],
   "source": [
    "diff.mean()"
   ]
  },
  {
   "cell_type": "code",
   "execution_count": 34,
   "id": "13a8c63c",
   "metadata": {},
   "outputs": [
    {
     "data": {
      "text/plain": [
       "8.668244432320858"
      ]
     },
     "execution_count": 34,
     "metadata": {},
     "output_type": "execute_result"
    }
   ],
   "source": [
    "diff.std()"
   ]
  },
  {
   "cell_type": "code",
   "execution_count": 35,
   "id": "804b591b",
   "metadata": {},
   "outputs": [
    {
     "data": {
      "text/html": [
       "<div>\n",
       "<style scoped>\n",
       "    .dataframe tbody tr th:only-of-type {\n",
       "        vertical-align: middle;\n",
       "    }\n",
       "\n",
       "    .dataframe tbody tr th {\n",
       "        vertical-align: top;\n",
       "    }\n",
       "\n",
       "    .dataframe thead th {\n",
       "        text-align: right;\n",
       "    }\n",
       "</style>\n",
       "<table border=\"1\" class=\"dataframe\">\n",
       "  <thead>\n",
       "    <tr style=\"text-align: right;\">\n",
       "      <th></th>\n",
       "      <th>Pre_statistics</th>\n",
       "      <th>Post_statistics</th>\n",
       "      <th>difference</th>\n",
       "    </tr>\n",
       "  </thead>\n",
       "  <tbody>\n",
       "    <tr>\n",
       "      <th>count</th>\n",
       "      <td>26.000000</td>\n",
       "      <td>26.000000</td>\n",
       "      <td>26.000000</td>\n",
       "    </tr>\n",
       "    <tr>\n",
       "      <th>mean</th>\n",
       "      <td>47.230769</td>\n",
       "      <td>84.769231</td>\n",
       "      <td>37.538462</td>\n",
       "    </tr>\n",
       "    <tr>\n",
       "      <th>std</th>\n",
       "      <td>10.648221</td>\n",
       "      <td>8.208813</td>\n",
       "      <td>8.668244</td>\n",
       "    </tr>\n",
       "    <tr>\n",
       "      <th>min</th>\n",
       "      <td>25.000000</td>\n",
       "      <td>65.000000</td>\n",
       "      <td>24.000000</td>\n",
       "    </tr>\n",
       "    <tr>\n",
       "      <th>25%</th>\n",
       "      <td>42.000000</td>\n",
       "      <td>79.000000</td>\n",
       "      <td>30.500000</td>\n",
       "    </tr>\n",
       "    <tr>\n",
       "      <th>50%</th>\n",
       "      <td>48.500000</td>\n",
       "      <td>86.000000</td>\n",
       "      <td>35.000000</td>\n",
       "    </tr>\n",
       "    <tr>\n",
       "      <th>75%</th>\n",
       "      <td>54.500000</td>\n",
       "      <td>91.750000</td>\n",
       "      <td>43.750000</td>\n",
       "    </tr>\n",
       "    <tr>\n",
       "      <th>max</th>\n",
       "      <td>68.000000</td>\n",
       "      <td>97.000000</td>\n",
       "      <td>60.000000</td>\n",
       "    </tr>\n",
       "  </tbody>\n",
       "</table>\n",
       "</div>"
      ],
      "text/plain": [
       "       Pre_statistics  Post_statistics  difference\n",
       "count       26.000000        26.000000   26.000000\n",
       "mean        47.230769        84.769231   37.538462\n",
       "std         10.648221         8.208813    8.668244\n",
       "min         25.000000        65.000000   24.000000\n",
       "25%         42.000000        79.000000   30.500000\n",
       "50%         48.500000        86.000000   35.000000\n",
       "75%         54.500000        91.750000   43.750000\n",
       "max         68.000000        97.000000   60.000000"
      ]
     },
     "execution_count": 35,
     "metadata": {},
     "output_type": "execute_result"
    }
   ],
   "source": [
    "df.describe()\n",
    "#Describe function will give the detail view of our dataset like count,min,max etc."
   ]
  },
  {
   "cell_type": "markdown",
   "id": "d8a89680",
   "metadata": {},
   "source": [
    "# Q7.Every parameter of ttest value like CI,Test value,pval,degree of freedom etc."
   ]
  },
  {
   "cell_type": "code",
   "execution_count": 24,
   "id": "44e54d27",
   "metadata": {},
   "outputs": [
    {
     "data": {
      "text/html": [
       "<div>\n",
       "<style scoped>\n",
       "    .dataframe tbody tr th:only-of-type {\n",
       "        vertical-align: middle;\n",
       "    }\n",
       "\n",
       "    .dataframe tbody tr th {\n",
       "        vertical-align: top;\n",
       "    }\n",
       "\n",
       "    .dataframe thead th {\n",
       "        text-align: right;\n",
       "    }\n",
       "</style>\n",
       "<table border=\"1\" class=\"dataframe\">\n",
       "  <thead>\n",
       "    <tr style=\"text-align: right;\">\n",
       "      <th></th>\n",
       "      <th>T</th>\n",
       "      <th>dof</th>\n",
       "      <th>alternative</th>\n",
       "      <th>p-val</th>\n",
       "      <th>CI95%</th>\n",
       "      <th>cohen-d</th>\n",
       "      <th>BF10</th>\n",
       "      <th>power</th>\n",
       "    </tr>\n",
       "  </thead>\n",
       "  <tbody>\n",
       "    <tr>\n",
       "      <th>T-test</th>\n",
       "      <td>-22.081674</td>\n",
       "      <td>25</td>\n",
       "      <td>two-sided</td>\n",
       "      <td>6.466640e-18</td>\n",
       "      <td>[-41.04, -34.04]</td>\n",
       "      <td>3.948473</td>\n",
       "      <td>6.797e+14</td>\n",
       "      <td>1.0</td>\n",
       "    </tr>\n",
       "  </tbody>\n",
       "</table>\n",
       "</div>"
      ],
      "text/plain": [
       "                T  dof alternative         p-val             CI95%   cohen-d  \\\n",
       "T-test -22.081674   25   two-sided  6.466640e-18  [-41.04, -34.04]  3.948473   \n",
       "\n",
       "             BF10  power  \n",
       "T-test  6.797e+14    1.0  "
      ]
     },
     "execution_count": 24,
     "metadata": {},
     "output_type": "execute_result"
    }
   ],
   "source": [
    "#Applying the Paired ttest using the two dependent variables Pre and Post.\n",
    "pg.ttest(Pre,Post,paired=True)"
   ]
  }
 ],
 "metadata": {
  "kernelspec": {
   "display_name": "Python 3",
   "language": "python",
   "name": "python3"
  },
  "language_info": {
   "codemirror_mode": {
    "name": "ipython",
    "version": 3
   },
   "file_extension": ".py",
   "mimetype": "text/x-python",
   "name": "python",
   "nbconvert_exporter": "python",
   "pygments_lexer": "ipython3",
   "version": "3.8.8"
  }
 },
 "nbformat": 4,
 "nbformat_minor": 5
}
