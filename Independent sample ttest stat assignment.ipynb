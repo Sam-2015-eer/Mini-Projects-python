{
 "cells": [
  {
   "cell_type": "markdown",
   "id": "41dd0ef3",
   "metadata": {},
   "source": [
    "# Question based on Gender dataset"
   ]
  },
  {
   "cell_type": "code",
   "execution_count": 1,
   "id": "d816fc40",
   "metadata": {},
   "outputs": [],
   "source": [
    "#importing required libraries\n",
    "import pandas as pd\n",
    "import numpy as np\n",
    "import matplotlib.pyplot as plt\n",
    "import pingouin as pg\n",
    "from scipy import stats"
   ]
  },
  {
   "cell_type": "code",
   "execution_count": 3,
   "id": "8ce48db2",
   "metadata": {},
   "outputs": [
    {
     "data": {
      "text/html": [
       "<div>\n",
       "<style scoped>\n",
       "    .dataframe tbody tr th:only-of-type {\n",
       "        vertical-align: middle;\n",
       "    }\n",
       "\n",
       "    .dataframe tbody tr th {\n",
       "        vertical-align: top;\n",
       "    }\n",
       "\n",
       "    .dataframe thead th {\n",
       "        text-align: right;\n",
       "    }\n",
       "</style>\n",
       "<table border=\"1\" class=\"dataframe\">\n",
       "  <thead>\n",
       "    <tr style=\"text-align: right;\">\n",
       "      <th></th>\n",
       "      <th>Females</th>\n",
       "      <th>Weight_females</th>\n",
       "      <th>Males</th>\n",
       "      <th>Weight_males</th>\n",
       "    </tr>\n",
       "  </thead>\n",
       "  <tbody>\n",
       "    <tr>\n",
       "      <th>0</th>\n",
       "      <td>F</td>\n",
       "      <td>61.585869</td>\n",
       "      <td>M</td>\n",
       "      <td>89.737485</td>\n",
       "    </tr>\n",
       "    <tr>\n",
       "      <th>1</th>\n",
       "      <td>F</td>\n",
       "      <td>64.554858</td>\n",
       "      <td>M</td>\n",
       "      <td>86.301228</td>\n",
       "    </tr>\n",
       "    <tr>\n",
       "      <th>2</th>\n",
       "      <td>F</td>\n",
       "      <td>66.168882</td>\n",
       "      <td>M</td>\n",
       "      <td>86.576987</td>\n",
       "    </tr>\n",
       "    <tr>\n",
       "      <th>3</th>\n",
       "      <td>F</td>\n",
       "      <td>59.308605</td>\n",
       "      <td>M</td>\n",
       "      <td>91.527742</td>\n",
       "    </tr>\n",
       "    <tr>\n",
       "      <th>4</th>\n",
       "      <td>F</td>\n",
       "      <td>64.858249</td>\n",
       "      <td>M</td>\n",
       "      <td>85.184539</td>\n",
       "    </tr>\n",
       "  </tbody>\n",
       "</table>\n",
       "</div>"
      ],
      "text/plain": [
       "  Females  Weight_females Males  Weight_males\n",
       "0       F       61.585869     M     89.737485\n",
       "1       F       64.554858     M     86.301228\n",
       "2       F       66.168882     M     86.576987\n",
       "3       F       59.308605     M     91.527742\n",
       "4       F       64.858249     M     85.184539"
      ]
     },
     "execution_count": 3,
     "metadata": {},
     "output_type": "execute_result"
    }
   ],
   "source": [
    "#importing read files to read out the data from excel file\n",
    "from pandas import read_excel\n",
    "df = pd.read_excel('genderweight.xlsx')\n",
    "df.head()\n",
    "#Calls out top 5 rows from the dataframe"
   ]
  },
  {
   "cell_type": "markdown",
   "id": "0808360b",
   "metadata": {},
   "source": [
    "## Q1. Shape of the data? -shape method will give the output as total number of rows and columns in our dataset "
   ]
  },
  {
   "cell_type": "code",
   "execution_count": 4,
   "id": "1996a593",
   "metadata": {},
   "outputs": [
    {
     "data": {
      "text/plain": [
       "(20, 4)"
      ]
     },
     "execution_count": 4,
     "metadata": {},
     "output_type": "execute_result"
    }
   ],
   "source": [
    "df.shape\n",
    "#total number of rows,total number of columns"
   ]
  },
  {
   "cell_type": "markdown",
   "id": "e6493114",
   "metadata": {},
   "source": [
    "## Q2. Check for assumptions for this test if it follows equal variance assumed or not."
   ]
  },
  {
   "cell_type": "markdown",
   "id": "558c895e",
   "metadata": {},
   "source": [
    "         Null hypothesis(H0): Equal variance assumed for the two independent samples.\n",
    "    Alternate hypothesis(H1): Equal variance not assumed for the two independent samples."
   ]
  },
  {
   "cell_type": "code",
   "execution_count": 5,
   "id": "139efe33",
   "metadata": {},
   "outputs": [
    {
     "data": {
      "text/html": [
       "<div>\n",
       "<style scoped>\n",
       "    .dataframe tbody tr th:only-of-type {\n",
       "        vertical-align: middle;\n",
       "    }\n",
       "\n",
       "    .dataframe tbody tr th {\n",
       "        vertical-align: top;\n",
       "    }\n",
       "\n",
       "    .dataframe thead th {\n",
       "        text-align: right;\n",
       "    }\n",
       "</style>\n",
       "<table border=\"1\" class=\"dataframe\">\n",
       "  <thead>\n",
       "    <tr style=\"text-align: right;\">\n",
       "      <th></th>\n",
       "      <th>W</th>\n",
       "      <th>pval</th>\n",
       "      <th>normal</th>\n",
       "    </tr>\n",
       "  </thead>\n",
       "  <tbody>\n",
       "    <tr>\n",
       "      <th>Weight_females</th>\n",
       "      <td>0.938473</td>\n",
       "      <td>0.224329</td>\n",
       "      <td>True</td>\n",
       "    </tr>\n",
       "    <tr>\n",
       "      <th>Weight_males</th>\n",
       "      <td>0.986340</td>\n",
       "      <td>0.988560</td>\n",
       "      <td>True</td>\n",
       "    </tr>\n",
       "  </tbody>\n",
       "</table>\n",
       "</div>"
      ],
      "text/plain": [
       "                       W      pval  normal\n",
       "Weight_females  0.938473  0.224329    True\n",
       "Weight_males    0.986340  0.988560    True"
      ]
     },
     "execution_count": 5,
     "metadata": {},
     "output_type": "execute_result"
    }
   ],
   "source": [
    "pg.normality(df)\n",
    "#To examine if the columns are normally distributed or not/normality check from pingouin library."
   ]
  },
  {
   "cell_type": "code",
   "execution_count": 6,
   "id": "bb88582e",
   "metadata": {},
   "outputs": [
    {
     "data": {
      "text/plain": [
       "{'whiskers': [<matplotlib.lines.Line2D at 0x2a47fcbe8b0>,\n",
       "  <matplotlib.lines.Line2D at 0x2a47fcbec10>,\n",
       "  <matplotlib.lines.Line2D at 0x2a47ff34100>,\n",
       "  <matplotlib.lines.Line2D at 0x2a47ff34460>],\n",
       " 'caps': [<matplotlib.lines.Line2D at 0x2a47fcbef70>,\n",
       "  <matplotlib.lines.Line2D at 0x2a47ff28310>,\n",
       "  <matplotlib.lines.Line2D at 0x2a47ff347c0>,\n",
       "  <matplotlib.lines.Line2D at 0x2a47ff34b20>],\n",
       " 'boxes': [<matplotlib.lines.Line2D at 0x2a47fcbe550>,\n",
       "  <matplotlib.lines.Line2D at 0x2a47ff28d60>],\n",
       " 'medians': [<matplotlib.lines.Line2D at 0x2a47ff28670>,\n",
       "  <matplotlib.lines.Line2D at 0x2a47ff34e80>],\n",
       " 'fliers': [<matplotlib.lines.Line2D at 0x2a47ff289d0>,\n",
       "  <matplotlib.lines.Line2D at 0x2a47ff3f220>],\n",
       " 'means': []}"
      ]
     },
     "execution_count": 6,
     "metadata": {},
     "output_type": "execute_result"
    },
    {
     "data": {
      "image/png": "[encoded data removed]",
      "text/plain": [
       "<Figure size 432x288 with 1 Axes>"
      ]
     },
     "metadata": {
      "needs_background": "light"
     },
     "output_type": "display_data"
    }
   ],
   "source": [
    "#We assign a variable named data and store our weight columns from the dataset into this variable and plot the data in boxplot.\n",
    "data=[df['Weight_females'],df['Weight_males']]\n",
    "plt.boxplot(data)\n",
    "#The boxplot is showing us clearly that they have unequal variance and has some outliers but they are not extreme outliers."
   ]
  },
  {
   "cell_type": "code",
   "execution_count": 7,
   "id": "0928e1dd",
   "metadata": {},
   "outputs": [
    {
     "data": {
      "text/plain": [
       "(array([1., 0., 2., 9., 1., 4., 1., 1., 0., 1.]),\n",
       " array([59.30860459, 60.26091117, 61.21321775, 62.16552432, 63.1178309 ,\n",
       "        64.07013748, 65.02244405, 65.97475063, 66.9270572 , 67.87936378,\n",
       "        68.83167036]),\n",
       " <BarContainer object of 10 artists>)"
      ]
     },
     "execution_count": 7,
     "metadata": {},
     "output_type": "execute_result"
    },
    {
     "data": {
      "image/png": "[encoded data removed]",
      "text/plain": [
       "<Figure size 432x288 with 1 Axes>"
      ]
     },
     "metadata": {
      "needs_background": "light"
     },
     "output_type": "display_data"
    }
   ],
   "source": [
    "#Histogram for our Weight_females data column to visualize that it is normally distributed.\n",
    "plt.hist(df['Weight_females'],color='red')"
   ]
  },
  {
   "cell_type": "code",
   "execution_count": 8,
   "id": "d41d6c21",
   "metadata": {},
   "outputs": [
    {
     "data": {
      "text/plain": [
       "(array([1., 1., 2., 3., 2., 6., 1., 1., 2., 1.]),\n",
       " array([77.00978193, 78.81506739, 80.62035285, 82.4256383 , 84.23092376,\n",
       "        86.03620922, 87.84149467, 89.64678013, 91.45206559, 93.25735105,\n",
       "        95.0626365 ]),\n",
       " <BarContainer object of 10 artists>)"
      ]
     },
     "execution_count": 8,
     "metadata": {},
     "output_type": "execute_result"
    },
    {
     "data": {
      "image/png": "[encoded data removed]",
      "text/plain": [
       "<Figure size 432x288 with 1 Axes>"
      ]
     },
     "metadata": {
      "needs_background": "light"
     },
     "output_type": "display_data"
    }
   ],
   "source": [
    "#Histogram for our Weight_males data column to visualize that it is normally distributed.\n",
    "plt.hist(df['Weight_males'],color='brown')"
   ]
  },
  {
   "cell_type": "code",
   "execution_count": 9,
   "id": "cd70a9fe",
   "metadata": {},
   "outputs": [
    {
     "data": {
      "text/plain": [
       "<AxesSubplot:title={'center':'Q-Q Plot'}, xlabel='Theoretical quantiles', ylabel='Ordered quantiles'>"
      ]
     },
     "execution_count": 9,
     "metadata": {},
     "output_type": "execute_result"
    },
    {
     "data": {
      "image/png": "[encoded data removed]",
      "text/plain": [
       "<Figure size 360x288 with 1 Axes>"
      ]
     },
     "metadata": {
      "needs_background": "light"
     },
     "output_type": "display_data"
    }
   ],
   "source": [
    "pg.qqplot(df['Weight_males'],dist='norm')"
   ]
  },
  {
   "cell_type": "code",
   "execution_count": 10,
   "id": "a3cde5d1",
   "metadata": {},
   "outputs": [
    {
     "data": {
      "text/plain": [
       "<AxesSubplot:title={'center':'Q-Q Plot'}, xlabel='Theoretical quantiles', ylabel='Ordered quantiles'>"
      ]
     },
     "execution_count": 10,
     "metadata": {},
     "output_type": "execute_result"
    },
    {
     "data": {
      "image/png": "[encoded data removed]",
      "text/plain": [
       "<Figure size 360x288 with 1 Axes>"
      ]
     },
     "metadata": {
      "needs_background": "light"
     },
     "output_type": "display_data"
    }
   ],
   "source": [
    "pg.qqplot(df['Weight_females'],dist='norm')"
   ]
  },
  {
   "cell_type": "markdown",
   "id": "f2008abc",
   "metadata": {},
   "source": [
    "### levene test :To check the homogeneity of variance."
   ]
  },
  {
   "cell_type": "code",
   "execution_count": 11,
   "id": "13d688a6",
   "metadata": {},
   "outputs": [],
   "source": [
    "#Creating two variable for the weight columns from the dataset male weight and female weight.\n",
    "M_w=df['Weight_males']\n",
    "Fm_w=df['Weight_females']"
   ]
  },
  {
   "cell_type": "code",
   "execution_count": 12,
   "id": "b9559135",
   "metadata": {},
   "outputs": [
    {
     "data": {
      "text/plain": [
       "LeveneResult(statistic=6.116972600402776, pvalue=0.01797467699989902)"
      ]
     },
     "execution_count": 12,
     "metadata": {},
     "output_type": "execute_result"
    }
   ],
   "source": [
    "#Using scipy library to check for levene test.\n",
    "stats.levene(M_w, Fm_w)"
   ]
  },
  {
   "cell_type": "markdown",
   "id": "b3f347ab",
   "metadata": {},
   "source": [
    "#Both the p-values about the median and mean are 'p< 0.05' means equal variance not assumed which is our alternate hypothesis.\n",
    "Since our datapoints are not highly skewed so we can still go for two sample ttest with n<30."
   ]
  },
  {
   "cell_type": "markdown",
   "id": "a37665c6",
   "metadata": {},
   "source": [
    "## Q3. To examine the measures of central tendency-\"Median(as we have outliers)\" and measure of dispersion- 'Std dev' based on assumptions."
   ]
  },
  {
   "cell_type": "code",
   "execution_count": 13,
   "id": "0c94665f",
   "metadata": {},
   "outputs": [
    {
     "data": {
      "text/plain": [
       "86.27215411746431"
      ]
     },
     "execution_count": 13,
     "metadata": {},
     "output_type": "execute_result"
    }
   ],
   "source": [
    "M_w.median()"
   ]
  },
  {
   "cell_type": "code",
   "execution_count": 14,
   "id": "8a2e1601",
   "metadata": {},
   "outputs": [
    {
     "data": {
      "text/plain": [
       "85.8261153379823"
      ]
     },
     "execution_count": 14,
     "metadata": {},
     "output_type": "execute_result"
    }
   ],
   "source": [
    "M_w.mean()"
   ]
  },
  {
   "cell_type": "code",
   "execution_count": 15,
   "id": "0cff8553",
   "metadata": {},
   "outputs": [
    {
     "data": {
      "text/plain": [
       "4.353520314161602"
      ]
     },
     "execution_count": 15,
     "metadata": {},
     "output_type": "execute_result"
    }
   ],
   "source": [
    "M_w.std()"
   ]
  },
  {
   "cell_type": "code",
   "execution_count": 16,
   "id": "7f7b6913",
   "metadata": {},
   "outputs": [
    {
     "data": {
      "text/plain": [
       "63.49867188220803"
      ]
     },
     "execution_count": 16,
     "metadata": {},
     "output_type": "execute_result"
    }
   ],
   "source": [
    "Fm_w.mean()"
   ]
  },
  {
   "cell_type": "code",
   "execution_count": 17,
   "id": "c97d9016",
   "metadata": {},
   "outputs": [
    {
     "data": {
      "text/plain": [
       "62.94235863840915"
      ]
     },
     "execution_count": 17,
     "metadata": {},
     "output_type": "execute_result"
    }
   ],
   "source": [
    "Fm_w.median()"
   ]
  },
  {
   "cell_type": "code",
   "execution_count": 18,
   "id": "1860905f",
   "metadata": {},
   "outputs": [
    {
     "data": {
      "text/plain": [
       "2.0276151941190665"
      ]
     },
     "execution_count": 18,
     "metadata": {},
     "output_type": "execute_result"
    }
   ],
   "source": [
    "Fm_w.std()"
   ]
  },
  {
   "cell_type": "markdown",
   "id": "5bd9e767",
   "metadata": {},
   "source": [
    "## Q5. Test statistics of the independent variable like pval,CI,dofreedom,test value etc."
   ]
  },
  {
   "cell_type": "code",
   "execution_count": 19,
   "id": "b9fd5d1d",
   "metadata": {},
   "outputs": [],
   "source": [
    "#importing independent ttest from the scipy library\n",
    "from scipy.stats import ttest_ind"
   ]
  },
  {
   "cell_type": "code",
   "execution_count": 59,
   "id": "311a7f82",
   "metadata": {},
   "outputs": [
    {
     "data": {
      "text/plain": [
       "Ttest_indResult(statistic=-20.79137772174724, pvalue=4.298062353095335e-18)"
      ]
     },
     "execution_count": 59,
     "metadata": {},
     "output_type": "execute_result"
    }
   ],
   "source": [
    "#performing the ttest using two independent samples with unequal variance\n",
    "ttest_ind( Fm_w ,M_w , equal_var=False)"
   ]
  },
  {
   "cell_type": "code",
   "execution_count": 60,
   "id": "ca04c690",
   "metadata": {},
   "outputs": [
    {
     "data": {
      "text/html": [
       "<div>\n",
       "<style scoped>\n",
       "    .dataframe tbody tr th:only-of-type {\n",
       "        vertical-align: middle;\n",
       "    }\n",
       "\n",
       "    .dataframe tbody tr th {\n",
       "        vertical-align: top;\n",
       "    }\n",
       "\n",
       "    .dataframe thead th {\n",
       "        text-align: right;\n",
       "    }\n",
       "</style>\n",
       "<table border=\"1\" class=\"dataframe\">\n",
       "  <thead>\n",
       "    <tr style=\"text-align: right;\">\n",
       "      <th></th>\n",
       "      <th>T</th>\n",
       "      <th>dof</th>\n",
       "      <th>alternative</th>\n",
       "      <th>p-val</th>\n",
       "      <th>CI95%</th>\n",
       "      <th>cohen-d</th>\n",
       "      <th>BF10</th>\n",
       "      <th>power</th>\n",
       "    </tr>\n",
       "  </thead>\n",
       "  <tbody>\n",
       "    <tr>\n",
       "      <th>T-test</th>\n",
       "      <td>-20.791378</td>\n",
       "      <td>38</td>\n",
       "      <td>two-sided</td>\n",
       "      <td>2.331459e-22</td>\n",
       "      <td>[-24.5, -20.15]</td>\n",
       "      <td>6.574811</td>\n",
       "      <td>8.514e+18</td>\n",
       "      <td>1.0</td>\n",
       "    </tr>\n",
       "  </tbody>\n",
       "</table>\n",
       "</div>"
      ],
      "text/plain": [
       "                T  dof alternative         p-val            CI95%   cohen-d  \\\n",
       "T-test -20.791378   38   two-sided  2.331459e-22  [-24.5, -20.15]  6.574811   \n",
       "\n",
       "             BF10  power  \n",
       "T-test  8.514e+18    1.0  "
      ]
     },
     "execution_count": 60,
     "metadata": {},
     "output_type": "execute_result"
    }
   ],
   "source": [
    "#ttest using pingouin library\n",
    "pg.ttest( Fm_w ,M_w ,correction='auto')\n",
    "#auto will take care if unequal variance is assumed."
   ]
  },
  {
   "cell_type": "code",
   "execution_count": 54,
   "id": "31c78772",
   "metadata": {},
   "outputs": [
    {
     "data": {
      "text/plain": [
       "ShapiroResult(statistic=0.938473105430603, pvalue=0.22432927787303925)"
      ]
     },
     "execution_count": 54,
     "metadata": {},
     "output_type": "execute_result"
    }
   ],
   "source": [
    "stats.shapiro(Fm_w)"
   ]
  },
  {
   "cell_type": "code",
   "execution_count": 22,
   "id": "2a54272f",
   "metadata": {},
   "outputs": [
    {
     "data": {
      "text/html": [
       "<div>\n",
       "<style scoped>\n",
       "    .dataframe tbody tr th:only-of-type {\n",
       "        vertical-align: middle;\n",
       "    }\n",
       "\n",
       "    .dataframe tbody tr th {\n",
       "        vertical-align: top;\n",
       "    }\n",
       "\n",
       "    .dataframe thead th {\n",
       "        text-align: right;\n",
       "    }\n",
       "</style>\n",
       "<table border=\"1\" class=\"dataframe\">\n",
       "  <thead>\n",
       "    <tr style=\"text-align: right;\">\n",
       "      <th></th>\n",
       "      <th>Weight_females</th>\n",
       "      <th>Weight_males</th>\n",
       "    </tr>\n",
       "  </thead>\n",
       "  <tbody>\n",
       "    <tr>\n",
       "      <th>count</th>\n",
       "      <td>20.000000</td>\n",
       "      <td>20.000000</td>\n",
       "    </tr>\n",
       "    <tr>\n",
       "      <th>mean</th>\n",
       "      <td>63.498672</td>\n",
       "      <td>85.826115</td>\n",
       "    </tr>\n",
       "    <tr>\n",
       "      <th>std</th>\n",
       "      <td>2.027615</td>\n",
       "      <td>4.353520</td>\n",
       "    </tr>\n",
       "    <tr>\n",
       "      <th>min</th>\n",
       "      <td>59.308605</td>\n",
       "      <td>77.009782</td>\n",
       "    </tr>\n",
       "    <tr>\n",
       "      <th>25%</th>\n",
       "      <td>62.299224</td>\n",
       "      <td>83.171944</td>\n",
       "    </tr>\n",
       "    <tr>\n",
       "      <th>50%</th>\n",
       "      <td>62.942359</td>\n",
       "      <td>86.272154</td>\n",
       "    </tr>\n",
       "    <tr>\n",
       "      <th>75%</th>\n",
       "      <td>64.630706</td>\n",
       "      <td>87.765223</td>\n",
       "    </tr>\n",
       "    <tr>\n",
       "      <th>max</th>\n",
       "      <td>68.831670</td>\n",
       "      <td>95.062637</td>\n",
       "    </tr>\n",
       "  </tbody>\n",
       "</table>\n",
       "</div>"
      ],
      "text/plain": [
       "       Weight_females  Weight_males\n",
       "count       20.000000     20.000000\n",
       "mean        63.498672     85.826115\n",
       "std          2.027615      4.353520\n",
       "min         59.308605     77.009782\n",
       "25%         62.299224     83.171944\n",
       "50%         62.942359     86.272154\n",
       "75%         64.630706     87.765223\n",
       "max         68.831670     95.062637"
      ]
     },
     "execution_count": 22,
     "metadata": {},
     "output_type": "execute_result"
    }
   ],
   "source": [
    "#other parameters for our datapoints\n",
    "df.describe()"
   ]
  },
  {
   "cell_type": "raw",
   "id": "8ba5b622",
   "metadata": {},
   "source": [
    "                                      ----------+-+-+-+-+-+-+-+-+-+----------"
   ]
  },
  {
   "cell_type": "markdown",
   "id": "d1e763c1",
   "metadata": {},
   "source": [
    "# Questions based on mtcars dataset"
   ]
  },
  {
   "cell_type": "code",
   "execution_count": 28,
   "id": "93ba317a",
   "metadata": {},
   "outputs": [
    {
     "data": {
      "text/html": [
       "<div>\n",
       "<style scoped>\n",
       "    .dataframe tbody tr th:only-of-type {\n",
       "        vertical-align: middle;\n",
       "    }\n",
       "\n",
       "    .dataframe tbody tr th {\n",
       "        vertical-align: top;\n",
       "    }\n",
       "\n",
       "    .dataframe thead th {\n",
       "        text-align: right;\n",
       "    }\n",
       "</style>\n",
       "<table border=\"1\" class=\"dataframe\">\n",
       "  <thead>\n",
       "    <tr style=\"text-align: right;\">\n",
       "      <th></th>\n",
       "      <th>mpg</th>\n",
       "      <th>cyl</th>\n",
       "      <th>disp</th>\n",
       "      <th>hp</th>\n",
       "      <th>drat</th>\n",
       "      <th>wt</th>\n",
       "      <th>qsec</th>\n",
       "      <th>vs</th>\n",
       "      <th>am</th>\n",
       "      <th>gear</th>\n",
       "      <th>carb</th>\n",
       "    </tr>\n",
       "  </thead>\n",
       "  <tbody>\n",
       "    <tr>\n",
       "      <th>Mazda RX4</th>\n",
       "      <td>21.0</td>\n",
       "      <td>6</td>\n",
       "      <td>160.0</td>\n",
       "      <td>110</td>\n",
       "      <td>3.90</td>\n",
       "      <td>2.620</td>\n",
       "      <td>16.46</td>\n",
       "      <td>0</td>\n",
       "      <td>1</td>\n",
       "      <td>4</td>\n",
       "      <td>4</td>\n",
       "    </tr>\n",
       "    <tr>\n",
       "      <th>Mazda RX4 Wag</th>\n",
       "      <td>21.0</td>\n",
       "      <td>6</td>\n",
       "      <td>160.0</td>\n",
       "      <td>110</td>\n",
       "      <td>3.90</td>\n",
       "      <td>2.875</td>\n",
       "      <td>17.02</td>\n",
       "      <td>0</td>\n",
       "      <td>1</td>\n",
       "      <td>4</td>\n",
       "      <td>4</td>\n",
       "    </tr>\n",
       "    <tr>\n",
       "      <th>Datsun 710</th>\n",
       "      <td>22.8</td>\n",
       "      <td>4</td>\n",
       "      <td>108.0</td>\n",
       "      <td>93</td>\n",
       "      <td>3.85</td>\n",
       "      <td>2.320</td>\n",
       "      <td>18.61</td>\n",
       "      <td>1</td>\n",
       "      <td>1</td>\n",
       "      <td>4</td>\n",
       "      <td>1</td>\n",
       "    </tr>\n",
       "    <tr>\n",
       "      <th>Hornet 4 Drive</th>\n",
       "      <td>21.4</td>\n",
       "      <td>6</td>\n",
       "      <td>258.0</td>\n",
       "      <td>110</td>\n",
       "      <td>3.08</td>\n",
       "      <td>3.215</td>\n",
       "      <td>19.44</td>\n",
       "      <td>1</td>\n",
       "      <td>0</td>\n",
       "      <td>3</td>\n",
       "      <td>1</td>\n",
       "    </tr>\n",
       "    <tr>\n",
       "      <th>Hornet Sportabout</th>\n",
       "      <td>18.7</td>\n",
       "      <td>8</td>\n",
       "      <td>360.0</td>\n",
       "      <td>175</td>\n",
       "      <td>3.15</td>\n",
       "      <td>3.440</td>\n",
       "      <td>17.02</td>\n",
       "      <td>0</td>\n",
       "      <td>0</td>\n",
       "      <td>3</td>\n",
       "      <td>2</td>\n",
       "    </tr>\n",
       "  </tbody>\n",
       "</table>\n",
       "</div>"
      ],
      "text/plain": [
       "                    mpg  cyl   disp   hp  drat     wt   qsec  vs  am  gear  \\\n",
       "Mazda RX4          21.0    6  160.0  110  3.90  2.620  16.46   0   1     4   \n",
       "Mazda RX4 Wag      21.0    6  160.0  110  3.90  2.875  17.02   0   1     4   \n",
       "Datsun 710         22.8    4  108.0   93  3.85  2.320  18.61   1   1     4   \n",
       "Hornet 4 Drive     21.4    6  258.0  110  3.08  3.215  19.44   1   0     3   \n",
       "Hornet Sportabout  18.7    8  360.0  175  3.15  3.440  17.02   0   0     3   \n",
       "\n",
       "                   carb  \n",
       "Mazda RX4             4  \n",
       "Mazda RX4 Wag         4  \n",
       "Datsun 710            1  \n",
       "Hornet 4 Drive        1  \n",
       "Hornet Sportabout     2  "
      ]
     },
     "execution_count": 28,
     "metadata": {},
     "output_type": "execute_result"
    }
   ],
   "source": [
    "#reading csv data file into a new dataframe df_N\n",
    "df_N=pd.read_csv('mtcars.csv')\n",
    "df_N.head()"
   ]
  },
  {
   "cell_type": "code",
   "execution_count": 29,
   "id": "6c374d04",
   "metadata": {},
   "outputs": [
    {
     "data": {
      "text/html": [
       "<div>\n",
       "<style scoped>\n",
       "    .dataframe tbody tr th:only-of-type {\n",
       "        vertical-align: middle;\n",
       "    }\n",
       "\n",
       "    .dataframe tbody tr th {\n",
       "        vertical-align: top;\n",
       "    }\n",
       "\n",
       "    .dataframe thead th {\n",
       "        text-align: right;\n",
       "    }\n",
       "</style>\n",
       "<table border=\"1\" class=\"dataframe\">\n",
       "  <thead>\n",
       "    <tr style=\"text-align: right;\">\n",
       "      <th></th>\n",
       "      <th>mpg</th>\n",
       "      <th>disp</th>\n",
       "      <th>hp</th>\n",
       "      <th>drat</th>\n",
       "      <th>wt</th>\n",
       "      <th>qsec</th>\n",
       "      <th>carb</th>\n",
       "    </tr>\n",
       "  </thead>\n",
       "  <tbody>\n",
       "    <tr>\n",
       "      <th>Mazda RX4</th>\n",
       "      <td>21.0</td>\n",
       "      <td>160.0</td>\n",
       "      <td>110</td>\n",
       "      <td>3.90</td>\n",
       "      <td>2.620</td>\n",
       "      <td>16.46</td>\n",
       "      <td>4</td>\n",
       "    </tr>\n",
       "    <tr>\n",
       "      <th>Mazda RX4 Wag</th>\n",
       "      <td>21.0</td>\n",
       "      <td>160.0</td>\n",
       "      <td>110</td>\n",
       "      <td>3.90</td>\n",
       "      <td>2.875</td>\n",
       "      <td>17.02</td>\n",
       "      <td>4</td>\n",
       "    </tr>\n",
       "    <tr>\n",
       "      <th>Datsun 710</th>\n",
       "      <td>22.8</td>\n",
       "      <td>108.0</td>\n",
       "      <td>93</td>\n",
       "      <td>3.85</td>\n",
       "      <td>2.320</td>\n",
       "      <td>18.61</td>\n",
       "      <td>1</td>\n",
       "    </tr>\n",
       "    <tr>\n",
       "      <th>Hornet 4 Drive</th>\n",
       "      <td>21.4</td>\n",
       "      <td>258.0</td>\n",
       "      <td>110</td>\n",
       "      <td>3.08</td>\n",
       "      <td>3.215</td>\n",
       "      <td>19.44</td>\n",
       "      <td>1</td>\n",
       "    </tr>\n",
       "    <tr>\n",
       "      <th>Hornet Sportabout</th>\n",
       "      <td>18.7</td>\n",
       "      <td>360.0</td>\n",
       "      <td>175</td>\n",
       "      <td>3.15</td>\n",
       "      <td>3.440</td>\n",
       "      <td>17.02</td>\n",
       "      <td>2</td>\n",
       "    </tr>\n",
       "  </tbody>\n",
       "</table>\n",
       "</div>"
      ],
      "text/plain": [
       "                    mpg   disp   hp  drat     wt   qsec  carb\n",
       "Mazda RX4          21.0  160.0  110  3.90  2.620  16.46     4\n",
       "Mazda RX4 Wag      21.0  160.0  110  3.90  2.875  17.02     4\n",
       "Datsun 710         22.8  108.0   93  3.85  2.320  18.61     1\n",
       "Hornet 4 Drive     21.4  258.0  110  3.08  3.215  19.44     1\n",
       "Hornet Sportabout  18.7  360.0  175  3.15  3.440  17.02     2"
      ]
     },
     "execution_count": 29,
     "metadata": {},
     "output_type": "execute_result"
    }
   ],
   "source": [
    "#addressing only 'Numerical data' from the dataset to check for normality and creating a new df as Newdf as check point.\n",
    "Newdf=df_N[['mpg','disp','hp','drat','wt','qsec','carb']]\n",
    "Newdf.head()"
   ]
  },
  {
   "cell_type": "markdown",
   "id": "6f5e1332",
   "metadata": {},
   "source": [
    "## Q1. Test to examine the normality of the columns and datapoints."
   ]
  },
  {
   "cell_type": "code",
   "execution_count": 30,
   "id": "46b9e553",
   "metadata": {},
   "outputs": [
    {
     "data": {
      "text/html": [
       "<div>\n",
       "<style scoped>\n",
       "    .dataframe tbody tr th:only-of-type {\n",
       "        vertical-align: middle;\n",
       "    }\n",
       "\n",
       "    .dataframe tbody tr th {\n",
       "        vertical-align: top;\n",
       "    }\n",
       "\n",
       "    .dataframe thead th {\n",
       "        text-align: right;\n",
       "    }\n",
       "</style>\n",
       "<table border=\"1\" class=\"dataframe\">\n",
       "  <thead>\n",
       "    <tr style=\"text-align: right;\">\n",
       "      <th></th>\n",
       "      <th>W</th>\n",
       "      <th>pval</th>\n",
       "      <th>normal</th>\n",
       "    </tr>\n",
       "  </thead>\n",
       "  <tbody>\n",
       "    <tr>\n",
       "      <th>mpg</th>\n",
       "      <td>0.947565</td>\n",
       "      <td>0.122881</td>\n",
       "      <td>True</td>\n",
       "    </tr>\n",
       "    <tr>\n",
       "      <th>disp</th>\n",
       "      <td>0.920013</td>\n",
       "      <td>0.020806</td>\n",
       "      <td>False</td>\n",
       "    </tr>\n",
       "    <tr>\n",
       "      <th>hp</th>\n",
       "      <td>0.933419</td>\n",
       "      <td>0.048807</td>\n",
       "      <td>False</td>\n",
       "    </tr>\n",
       "    <tr>\n",
       "      <th>drat</th>\n",
       "      <td>0.945884</td>\n",
       "      <td>0.110060</td>\n",
       "      <td>True</td>\n",
       "    </tr>\n",
       "    <tr>\n",
       "      <th>wt</th>\n",
       "      <td>0.943258</td>\n",
       "      <td>0.092656</td>\n",
       "      <td>True</td>\n",
       "    </tr>\n",
       "    <tr>\n",
       "      <th>qsec</th>\n",
       "      <td>0.973251</td>\n",
       "      <td>0.593525</td>\n",
       "      <td>True</td>\n",
       "    </tr>\n",
       "    <tr>\n",
       "      <th>carb</th>\n",
       "      <td>0.851097</td>\n",
       "      <td>0.000438</td>\n",
       "      <td>False</td>\n",
       "    </tr>\n",
       "  </tbody>\n",
       "</table>\n",
       "</div>"
      ],
      "text/plain": [
       "             W      pval  normal\n",
       "mpg   0.947565  0.122881    True\n",
       "disp  0.920013  0.020806   False\n",
       "hp    0.933419  0.048807   False\n",
       "drat  0.945884  0.110060    True\n",
       "wt    0.943258  0.092656    True\n",
       "qsec  0.973251  0.593525    True\n",
       "carb  0.851097  0.000438   False"
      ]
     },
     "execution_count": 30,
     "metadata": {},
     "output_type": "execute_result"
    }
   ],
   "source": [
    "#Simple Normality check using pingouin library in True or False\n",
    "pg.normality(Newdf)"
   ]
  },
  {
   "cell_type": "raw",
   "id": "396b0bad",
   "metadata": {},
   "source": [
    "Creating qqplot and shapiro-wilk test for each column to understand which column follows normal distribution.\n",
    "pvalue < 0.05 : We reject the Null hypothesis i.e \"our data is not normally distributed\"\n",
    "pvalue > 0.05 : we fail to reject the Null hypothesis i.e \"our data is normally distributed\""
   ]
  },
  {
   "cell_type": "code",
   "execution_count": 31,
   "id": "02fbb16c",
   "metadata": {},
   "outputs": [
    {
     "data": {
      "text/plain": [
       "ShapiroResult(statistic=0.9475647211074829, pvalue=0.12288112193346024)"
      ]
     },
     "execution_count": 31,
     "metadata": {},
     "output_type": "execute_result"
    },
    {
     "data": {
      "image/png": "[encoded data removed]",
      "text/plain": [
       "<Figure size 360x288 with 1 Axes>"
      ]
     },
     "metadata": {
      "needs_background": "light"
     },
     "output_type": "display_data"
    }
   ],
   "source": [
    "pg.qqplot(Newdf['mpg'])#qqplot\n",
    "stats.shapiro(Newdf['mpg'])#shapiro test"
   ]
  },
  {
   "cell_type": "code",
   "execution_count": 32,
   "id": "0d1bca8f",
   "metadata": {},
   "outputs": [
    {
     "data": {
      "text/plain": [
       "ShapiroResult(statistic=0.9458838701248169, pvalue=0.11006041616201401)"
      ]
     },
     "execution_count": 32,
     "metadata": {},
     "output_type": "execute_result"
    },
    {
     "data": {
      "image/png": "[encoded data removed]",
      "text/plain": [
       "<Figure size 360x288 with 1 Axes>"
      ]
     },
     "metadata": {
      "needs_background": "light"
     },
     "output_type": "display_data"
    }
   ],
   "source": [
    "pg.qqplot(Newdf['drat'])#qqplot\n",
    "stats.shapiro(Newdf['drat'])#shapiro test"
   ]
  },
  {
   "cell_type": "code",
   "execution_count": 33,
   "id": "f6b94f0d",
   "metadata": {},
   "outputs": [
    {
     "data": {
      "text/plain": [
       "ShapiroResult(statistic=0.9432578682899475, pvalue=0.09265592694282532)"
      ]
     },
     "execution_count": 33,
     "metadata": {},
     "output_type": "execute_result"
    },
    {
     "data": {
      "image/png": "[encoded data removed]",
      "text/plain": [
       "<Figure size 360x288 with 1 Axes>"
      ]
     },
     "metadata": {
      "needs_background": "light"
     },
     "output_type": "display_data"
    }
   ],
   "source": [
    "pg.qqplot(Newdf['wt'])#qqplot\n",
    "stats.shapiro(Newdf['wt'])#shapiro test"
   ]
  },
  {
   "cell_type": "code",
   "execution_count": 34,
   "id": "ca103baf",
   "metadata": {},
   "outputs": [
    {
     "data": {
      "text/plain": [
       "ShapiroResult(statistic=0.9732511639595032, pvalue=0.5935246348381042)"
      ]
     },
     "execution_count": 34,
     "metadata": {},
     "output_type": "execute_result"
    },
    {
     "data": {
      "image/png": "[encoded data removed]",
      "text/plain": [
       "<Figure size 360x288 with 1 Axes>"
      ]
     },
     "metadata": {
      "needs_background": "light"
     },
     "output_type": "display_data"
    }
   ],
   "source": [
    "pg.qqplot(Newdf['qsec'])#qqplot\n",
    "stats.shapiro(Newdf['qsec'])#shapiro test"
   ]
  },
  {
   "cell_type": "markdown",
   "id": "b72dce94",
   "metadata": {},
   "source": [
    "## Q2. After verifying all the columns and performing normality checks, The columns which are not normally distributed are 'disp,hp and carb'."
   ]
  },
  {
   "cell_type": "code",
   "execution_count": 35,
   "id": "818f5083",
   "metadata": {},
   "outputs": [
    {
     "data": {
      "text/plain": [
       "ShapiroResult(statistic=0.9200125932693481, pvalue=0.020806478336453438)"
      ]
     },
     "execution_count": 35,
     "metadata": {},
     "output_type": "execute_result"
    },
    {
     "data": {
      "image/png": "[encoded data removed]",
      "text/plain": [
       "<Figure size 360x288 with 1 Axes>"
      ]
     },
     "metadata": {
      "needs_background": "light"
     },
     "output_type": "display_data"
    }
   ],
   "source": [
    "pg.qqplot(Newdf['disp'])#qqplot\n",
    "stats.shapiro(Newdf['disp'])#shapiro"
   ]
  },
  {
   "cell_type": "code",
   "execution_count": 36,
   "id": "ad3161c3",
   "metadata": {},
   "outputs": [
    {
     "data": {
      "text/plain": [
       "ShapiroResult(statistic=0.933418869972229, pvalue=0.0488068051636219)"
      ]
     },
     "execution_count": 36,
     "metadata": {},
     "output_type": "execute_result"
    },
    {
     "data": {
      "image/png": "[encoded data removed]",
      "text/plain": [
       "<Figure size 360x288 with 1 Axes>"
      ]
     },
     "metadata": {
      "needs_background": "light"
     },
     "output_type": "display_data"
    }
   ],
   "source": [
    "pg.qqplot(Newdf['hp'])#qqplot\n",
    "stats.shapiro(Newdf['hp'])#shapiro"
   ]
  },
  {
   "cell_type": "code",
   "execution_count": 37,
   "id": "50d5abca",
   "metadata": {},
   "outputs": [
    {
     "data": {
      "text/plain": [
       "ShapiroResult(statistic=0.8510971069335938, pvalue=0.00043823738815262914)"
      ]
     },
     "execution_count": 37,
     "metadata": {},
     "output_type": "execute_result"
    },
    {
     "data": {
      "image/png": "[encoded data removed]",
      "text/plain": [
       "<Figure size 360x288 with 1 Axes>"
      ]
     },
     "metadata": {
      "needs_background": "light"
     },
     "output_type": "display_data"
    }
   ],
   "source": [
    "pg.qqplot(Newdf['carb'])#qqplot\n",
    "stats.shapiro(Newdf['carb'])#shapiro"
   ]
  },
  {
   "cell_type": "markdown",
   "id": "8fcfc3a0",
   "metadata": {},
   "source": [
    "## Q3. We have to calculate mean and median values of each column and see if there is a difference(using pandas library)."
   ]
  },
  {
   "cell_type": "code",
   "execution_count": 38,
   "id": "3260b8a8",
   "metadata": {},
   "outputs": [
    {
     "name": "stdout",
     "output_type": "stream",
     "text": [
      "20.090624999999996\n",
      "19.2\n"
     ]
    }
   ],
   "source": [
    "print(Newdf['mpg'].mean())\n",
    "print(Newdf['mpg'].median())\n",
    "\n",
    "#Almost equal"
   ]
  },
  {
   "cell_type": "code",
   "execution_count": 39,
   "id": "5dc808c4",
   "metadata": {},
   "outputs": [
    {
     "name": "stdout",
     "output_type": "stream",
     "text": [
      "230.72187500000004\n",
      "196.3\n"
     ]
    }
   ],
   "source": [
    "print(Newdf['disp'].mean())\n",
    "print(Newdf['disp'].median())\n",
    "\n",
    "#Not equal but no outliers"
   ]
  },
  {
   "cell_type": "code",
   "execution_count": 40,
   "id": "1f063229",
   "metadata": {},
   "outputs": [
    {
     "name": "stdout",
     "output_type": "stream",
     "text": [
      "146.6875\n",
      "123.0\n"
     ]
    }
   ],
   "source": [
    "print(Newdf['hp'].mean())\n",
    "print(Newdf['hp'].median())\n",
    "\n",
    "#clear presence of outliers which deviates the mean"
   ]
  },
  {
   "cell_type": "code",
   "execution_count": 41,
   "id": "d4d772d7",
   "metadata": {},
   "outputs": [
    {
     "name": "stdout",
     "output_type": "stream",
     "text": [
      "3.5965625000000006\n",
      "3.6950000000000003\n"
     ]
    }
   ],
   "source": [
    "print(Newdf['drat'].mean())\n",
    "print(Newdf['drat'].median())\n",
    "\n",
    "#Almost equal "
   ]
  },
  {
   "cell_type": "code",
   "execution_count": 42,
   "id": "1d9a64e7",
   "metadata": {},
   "outputs": [
    {
     "name": "stdout",
     "output_type": "stream",
     "text": [
      "3.2172499999999995\n",
      "3.325\n"
     ]
    }
   ],
   "source": [
    "print(Newdf['wt'].mean())\n",
    "print(Newdf['wt'].median())\n",
    "\n",
    "#Almost equal"
   ]
  },
  {
   "cell_type": "code",
   "execution_count": 43,
   "id": "977d078e",
   "metadata": {},
   "outputs": [
    {
     "name": "stdout",
     "output_type": "stream",
     "text": [
      "17.848750000000003\n",
      "17.71\n"
     ]
    }
   ],
   "source": [
    "print(Newdf['qsec'].mean())\n",
    "print(Newdf['qsec'].median())\n",
    "\n",
    "#Almost equal"
   ]
  },
  {
   "cell_type": "code",
   "execution_count": 44,
   "id": "e0b5fa27",
   "metadata": {},
   "outputs": [
    {
     "name": "stdout",
     "output_type": "stream",
     "text": [
      "2.8125\n",
      "2.0\n"
     ]
    }
   ],
   "source": [
    "print(Newdf['carb'].mean())\n",
    "print(Newdf['carb'].median())\n",
    "\n",
    "#Few outliers and mean gets effected"
   ]
  },
  {
   "cell_type": "markdown",
   "id": "9f6ae35b",
   "metadata": {},
   "source": [
    "## Q4. Which variables are collinear?"
   ]
  },
  {
   "cell_type": "code",
   "execution_count": 45,
   "id": "c20f61e7",
   "metadata": {},
   "outputs": [],
   "source": [
    "#importing seaborn library for the correlation plot as sns\n",
    "import seaborn as sns"
   ]
  },
  {
   "cell_type": "code",
   "execution_count": 46,
   "id": "b68c645f",
   "metadata": {},
   "outputs": [
    {
     "data": {
      "text/plain": [
       "Text(0.5, 1.0, 'Multi-Collinearity of mtcars Attributes')"
      ]
     },
     "execution_count": 46,
     "metadata": {},
     "output_type": "execute_result"
    },
    {
     "data": {
      "image/png": "[encoded data removed]",
      "text/plain": [
       "<Figure size 1080x1080 with 2 Axes>"
      ]
     },
     "metadata": {
      "needs_background": "light"
     },
     "output_type": "display_data"
    }
   ],
   "source": [
    "corr=df_N.corr()\n",
    "fig = plt.subplots(figsize=(15,15))\n",
    "rat=np.triu(np.ones_like(corr,dtype=bool))\n",
    "x=sns.heatmap(df_N.corr(), annot=True,mask=rat)      #using corr() method and passing the dataframe we have to x to plot the heatmap\n",
    "x.set_title(\"Multi-Collinearity of mtcars Attributes\")"
   ]
  },
  {
   "cell_type": "code",
   "execution_count": 47,
   "id": "88fde80b",
   "metadata": {},
   "outputs": [
    {
     "data": {
      "text/html": [
       "<div>\n",
       "<style scoped>\n",
       "    .dataframe tbody tr th:only-of-type {\n",
       "        vertical-align: middle;\n",
       "    }\n",
       "\n",
       "    .dataframe tbody tr th {\n",
       "        vertical-align: top;\n",
       "    }\n",
       "\n",
       "    .dataframe thead th {\n",
       "        text-align: right;\n",
       "    }\n",
       "</style>\n",
       "<table border=\"1\" class=\"dataframe\">\n",
       "  <thead>\n",
       "    <tr style=\"text-align: right;\">\n",
       "      <th></th>\n",
       "      <th>mpg</th>\n",
       "      <th>disp</th>\n",
       "      <th>hp</th>\n",
       "      <th>drat</th>\n",
       "      <th>wt</th>\n",
       "      <th>qsec</th>\n",
       "      <th>carb</th>\n",
       "    </tr>\n",
       "  </thead>\n",
       "  <tbody>\n",
       "    <tr>\n",
       "      <th>mpg</th>\n",
       "      <td>-</td>\n",
       "      <td>0.000</td>\n",
       "      <td>0.000</td>\n",
       "      <td>0.000</td>\n",
       "      <td>0.000</td>\n",
       "      <td>0.017</td>\n",
       "      <td>0.001</td>\n",
       "    </tr>\n",
       "    <tr>\n",
       "      <th>disp</th>\n",
       "      <td>-0.848</td>\n",
       "      <td>-</td>\n",
       "      <td>0.000</td>\n",
       "      <td>0.000</td>\n",
       "      <td>0.000</td>\n",
       "      <td>0.013</td>\n",
       "      <td>0.025</td>\n",
       "    </tr>\n",
       "    <tr>\n",
       "      <th>hp</th>\n",
       "      <td>-0.776</td>\n",
       "      <td>0.791</td>\n",
       "      <td>-</td>\n",
       "      <td>0.01</td>\n",
       "      <td>0.000</td>\n",
       "      <td>0.000</td>\n",
       "      <td>0.000</td>\n",
       "    </tr>\n",
       "    <tr>\n",
       "      <th>drat</th>\n",
       "      <td>0.681</td>\n",
       "      <td>-0.71</td>\n",
       "      <td>-0.449</td>\n",
       "      <td>-</td>\n",
       "      <td>0.000</td>\n",
       "      <td>0.62</td>\n",
       "      <td>0.621</td>\n",
       "    </tr>\n",
       "    <tr>\n",
       "      <th>wt</th>\n",
       "      <td>-0.868</td>\n",
       "      <td>0.888</td>\n",
       "      <td>0.659</td>\n",
       "      <td>-0.712</td>\n",
       "      <td>-</td>\n",
       "      <td>0.339</td>\n",
       "      <td>0.015</td>\n",
       "    </tr>\n",
       "    <tr>\n",
       "      <th>qsec</th>\n",
       "      <td>0.419</td>\n",
       "      <td>-0.434</td>\n",
       "      <td>-0.708</td>\n",
       "      <td>0.091</td>\n",
       "      <td>-0.175</td>\n",
       "      <td>-</td>\n",
       "      <td>0.000</td>\n",
       "    </tr>\n",
       "    <tr>\n",
       "      <th>carb</th>\n",
       "      <td>-0.551</td>\n",
       "      <td>0.395</td>\n",
       "      <td>0.75</td>\n",
       "      <td>-0.091</td>\n",
       "      <td>0.428</td>\n",
       "      <td>-0.656</td>\n",
       "      <td>-</td>\n",
       "    </tr>\n",
       "  </tbody>\n",
       "</table>\n",
       "</div>"
      ],
      "text/plain": [
       "         mpg    disp      hp    drat      wt    qsec   carb\n",
       "mpg        -   0.000   0.000   0.000   0.000   0.017  0.001\n",
       "disp  -0.848       -   0.000   0.000   0.000   0.013  0.025\n",
       "hp    -0.776   0.791       -    0.01   0.000   0.000  0.000\n",
       "drat   0.681   -0.71  -0.449       -   0.000    0.62  0.621\n",
       "wt    -0.868   0.888   0.659  -0.712       -   0.339  0.015\n",
       "qsec   0.419  -0.434  -0.708   0.091  -0.175       -  0.000\n",
       "carb  -0.551   0.395    0.75  -0.091   0.428  -0.656      -"
      ]
     },
     "execution_count": 47,
     "metadata": {},
     "output_type": "execute_result"
    }
   ],
   "source": [
    "Newdf.rcorr(stars=False)\n",
    "\n",
    "#Lower triangle is spearman coefficient and upper triangle shows the pvalue."
   ]
  },
  {
   "cell_type": "code",
   "execution_count": 48,
   "id": "a7ddea60",
   "metadata": {},
   "outputs": [],
   "source": [
    "from scipy.stats import spearmanr"
   ]
  },
  {
   "cell_type": "code",
   "execution_count": 50,
   "id": "8ecfa0d5",
   "metadata": {},
   "outputs": [],
   "source": [
    "corr, _ = spearmanr(Newdf['mpg'],Newdf['disp'])"
   ]
  },
  {
   "cell_type": "code",
   "execution_count": 51,
   "id": "d176b083",
   "metadata": {},
   "outputs": [
    {
     "name": "stdout",
     "output_type": "stream",
     "text": [
      "Spearmans correlation: -0.909\n"
     ]
    }
   ],
   "source": [
    "print('Spearmans correlation: %.3f' % corr)"
   ]
  },
  {
   "cell_type": "code",
   "execution_count": null,
   "id": "7a459ff3",
   "metadata": {},
   "outputs": [],
   "source": []
  }
 ],
 "metadata": {
  "kernelspec": {
   "display_name": "Python 3",
   "language": "python",
   "name": "python3"
  },
  "language_info": {
   "codemirror_mode": {
    "name": "ipython",
    "version": 3
   },
   "file_extension": ".py",
   "mimetype": "text/x-python",
   "name": "python",
   "nbconvert_exporter": "python",
   "pygments_lexer": "ipython3",
   "version": "3.8.8"
  }
 },
 "nbformat": 4,
 "nbformat_minor": 5
}
