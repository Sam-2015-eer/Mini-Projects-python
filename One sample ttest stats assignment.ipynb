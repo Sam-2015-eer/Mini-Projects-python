{
 "cells": [
  {
   "cell_type": "markdown",
   "id": "40bb498d",
   "metadata": {},
   "source": [
    "Problem: leena bought a water bottle from the shop and felt that there is a difference in the amount of water mentioned(500ml) by the company. She randomly select different shop and bought 25 bottle(independent). We have to perform One-sample ttest to examine if there is any difference in the amount of water as mentioned in the bottle.(Population mean=500 ml given)"
   ]
  },
  {
   "cell_type": "code",
   "execution_count": 1,
   "id": "e5d90f10",
   "metadata": {},
   "outputs": [],
   "source": [
    "#importing required libraries for our test\n",
    "import pandas as pd\n",
    "import matplotlib.pyplot as plt\n",
    "import pingouin as pg\n",
    "from pingouin import ttest"
   ]
  },
  {
   "cell_type": "code",
   "execution_count": 9,
   "id": "76753ee5",
   "metadata": {},
   "outputs": [
    {
     "data": {
      "text/html": [
       "<div>\n",
       "<style scoped>\n",
       "    .dataframe tbody tr th:only-of-type {\n",
       "        vertical-align: middle;\n",
       "    }\n",
       "\n",
       "    .dataframe tbody tr th {\n",
       "        vertical-align: top;\n",
       "    }\n",
       "\n",
       "    .dataframe thead th {\n",
       "        text-align: right;\n",
       "    }\n",
       "</style>\n",
       "<table border=\"1\" class=\"dataframe\">\n",
       "  <thead>\n",
       "    <tr style=\"text-align: right;\">\n",
       "      <th></th>\n",
       "      <th>Water in ml</th>\n",
       "    </tr>\n",
       "  </thead>\n",
       "  <tbody>\n",
       "    <tr>\n",
       "      <th>0</th>\n",
       "      <td>500</td>\n",
       "    </tr>\n",
       "    <tr>\n",
       "      <th>1</th>\n",
       "      <td>500</td>\n",
       "    </tr>\n",
       "    <tr>\n",
       "      <th>2</th>\n",
       "      <td>508</td>\n",
       "    </tr>\n",
       "    <tr>\n",
       "      <th>3</th>\n",
       "      <td>491</td>\n",
       "    </tr>\n",
       "    <tr>\n",
       "      <th>4</th>\n",
       "      <td>495</td>\n",
       "    </tr>\n",
       "  </tbody>\n",
       "</table>\n",
       "</div>"
      ],
      "text/plain": [
       "   Water in ml\n",
       "0          500\n",
       "1          500\n",
       "2          508\n",
       "3          491\n",
       "4          495"
      ]
     },
     "execution_count": 9,
     "metadata": {},
     "output_type": "execute_result"
    }
   ],
   "source": [
    "#importing read files to read out the dataset from the excel file\n",
    "from pandas import read_excel\n",
    "df = pd.read_excel('Assignment-II.xlsx')\n",
    "df.head()\n",
    "#head will call out top 5 rows"
   ]
  },
  {
   "cell_type": "markdown",
   "id": "7a7e1672",
   "metadata": {},
   "source": [
    "## Q1. Which type of data it is? -Continous Data type(Numerical)"
   ]
  },
  {
   "cell_type": "markdown",
   "id": "d792d463",
   "metadata": {},
   "source": [
    "## Q2. Null hypothesis(H0):There is no difference in the amount of water as mentioned by the                                                company(500ml)\n",
    "##  Alternate hypothesis(H1):There is a difference in the amount of water as mentioned by the                                                company(not 500ml)"
   ]
  },
  {
   "cell_type": "markdown",
   "id": "6fd5ca79",
   "metadata": {},
   "source": [
    "## Q3. Normality check using plot and normality test using the pingouin library."
   ]
  },
  {
   "cell_type": "code",
   "execution_count": 4,
   "id": "d6a4d2f0",
   "metadata": {},
   "outputs": [
    {
     "data": {
      "text/plain": [
       "(array([1., 2., 3., 2., 4., 5., 3., 2., 1., 2.]),\n",
       " array([480. , 483.5, 487. , 490.5, 494. , 497.5, 501. , 504.5, 508. ,\n",
       "        511.5, 515. ]),\n",
       " <BarContainer object of 10 artists>)"
      ]
     },
     "execution_count": 4,
     "metadata": {},
     "output_type": "execute_result"
    },
    {
     "data": {
      "image/png": "[encoded data removed]",
      "text/plain": [
       "<Figure size 432x288 with 1 Axes>"
      ]
     },
     "metadata": {
      "needs_background": "light"
     },
     "output_type": "display_data"
    }
   ],
   "source": [
    "plt.hist(df,color='red')\n",
    "#Histogram of the datapoints in red colour shows that our data is normally distributed."
   ]
  },
  {
   "cell_type": "code",
   "execution_count": 11,
   "id": "dab93550",
   "metadata": {},
   "outputs": [
    {
     "data": {
      "text/plain": [
       "<AxesSubplot:title={'center':'Q-Q Plot'}, xlabel='Theoretical quantiles', ylabel='Ordered quantiles'>"
      ]
     },
     "execution_count": 11,
     "metadata": {},
     "output_type": "execute_result"
    },
    {
     "data": {
      "image/png": "[encoded data removed]",
      "text/plain": [
       "<Figure size 360x288 with 1 Axes>"
      ]
     },
     "metadata": {
      "needs_background": "light"
     },
     "output_type": "display_data"
    }
   ],
   "source": [
    "pg.qqplot(df)\n",
    "#using pingouin QQplot shows that our datapoints lies in the line and confirms that it is normally distributed."
   ]
  },
  {
   "cell_type": "code",
   "execution_count": 6,
   "id": "1f711fe1",
   "metadata": {},
   "outputs": [
    {
     "data": {
      "text/plain": [
       "{'whiskers': [<matplotlib.lines.Line2D at 0x26732a565e0>,\n",
       "  <matplotlib.lines.Line2D at 0x26732a56880>],\n",
       " 'caps': [<matplotlib.lines.Line2D at 0x26732a56be0>,\n",
       "  <matplotlib.lines.Line2D at 0x26732a56f40>],\n",
       " 'boxes': [<matplotlib.lines.Line2D at 0x26732a56280>],\n",
       " 'medians': [<matplotlib.lines.Line2D at 0x26732a642e0>],\n",
       " 'fliers': [<matplotlib.lines.Line2D at 0x26732a64640>],\n",
       " 'means': []}"
      ]
     },
     "execution_count": 6,
     "metadata": {},
     "output_type": "execute_result"
    },
    {
     "data": {
      "image/png": "[encoded data removed]",
      "text/plain": [
       "<Figure size 432x288 with 1 Axes>"
      ]
     },
     "metadata": {
      "needs_background": "light"
     },
     "output_type": "display_data"
    }
   ],
   "source": [
    "plt.boxplot(df)\n",
    "#another plot to assure for the normally distributed data is boxplot using matplotlib library.(equal whiskers and symmetric)"
   ]
  },
  {
   "cell_type": "code",
   "execution_count": 8,
   "id": "a6a1d754",
   "metadata": {},
   "outputs": [
    {
     "data": {
      "text/html": [
       "<div>\n",
       "<style scoped>\n",
       "    .dataframe tbody tr th:only-of-type {\n",
       "        vertical-align: middle;\n",
       "    }\n",
       "\n",
       "    .dataframe tbody tr th {\n",
       "        vertical-align: top;\n",
       "    }\n",
       "\n",
       "    .dataframe thead th {\n",
       "        text-align: right;\n",
       "    }\n",
       "</style>\n",
       "<table border=\"1\" class=\"dataframe\">\n",
       "  <thead>\n",
       "    <tr style=\"text-align: right;\">\n",
       "      <th></th>\n",
       "      <th>W</th>\n",
       "      <th>pval</th>\n",
       "      <th>normal</th>\n",
       "    </tr>\n",
       "  </thead>\n",
       "  <tbody>\n",
       "    <tr>\n",
       "      <th>Water in ml</th>\n",
       "      <td>0.989118</td>\n",
       "      <td>0.99276</td>\n",
       "      <td>True</td>\n",
       "    </tr>\n",
       "  </tbody>\n",
       "</table>\n",
       "</div>"
      ],
      "text/plain": [
       "                    W     pval  normal\n",
       "Water in ml  0.989118  0.99276    True"
      ]
     },
     "execution_count": 8,
     "metadata": {},
     "output_type": "execute_result"
    }
   ],
   "source": [
    "pg.normality(df)"
   ]
  },
  {
   "cell_type": "markdown",
   "id": "8e828ade",
   "metadata": {},
   "source": [
    "### Calling the normality method from the pingouin library and it shows that our normality status is True(our data is normally distributed) and gives us pvalue >0.05 which is not significant and \"thus we fail to reject our null hypothesis\"     \n",
    "              i.e \"there is no difference in the amount of water bottle as mentioned by the company 500ml\"."
   ]
  },
  {
   "cell_type": "markdown",
   "id": "6510bb79",
   "metadata": {},
   "source": [
    "## Q4. Measure of central tendency and measure of dispersion would be 'mean' and 'standard deviation' based on normality test and plots"
   ]
  },
  {
   "cell_type": "code",
   "execution_count": 12,
   "id": "b3941231",
   "metadata": {},
   "outputs": [
    {
     "data": {
      "text/plain": [
       "Water in ml    497.28\n",
       "dtype: float64"
      ]
     },
     "execution_count": 12,
     "metadata": {},
     "output_type": "execute_result"
    }
   ],
   "source": [
    "df.mean()"
   ]
  },
  {
   "cell_type": "code",
   "execution_count": 13,
   "id": "b374b55c",
   "metadata": {},
   "outputs": [
    {
     "data": {
      "text/plain": [
       "Water in ml    8.648314\n",
       "dtype: float64"
      ]
     },
     "execution_count": 13,
     "metadata": {},
     "output_type": "execute_result"
    }
   ],
   "source": [
    "df.std()"
   ]
  },
  {
   "cell_type": "code",
   "execution_count": 14,
   "id": "d751632e",
   "metadata": {},
   "outputs": [
    {
     "data": {
      "text/html": [
       "<div>\n",
       "<style scoped>\n",
       "    .dataframe tbody tr th:only-of-type {\n",
       "        vertical-align: middle;\n",
       "    }\n",
       "\n",
       "    .dataframe tbody tr th {\n",
       "        vertical-align: top;\n",
       "    }\n",
       "\n",
       "    .dataframe thead th {\n",
       "        text-align: right;\n",
       "    }\n",
       "</style>\n",
       "<table border=\"1\" class=\"dataframe\">\n",
       "  <thead>\n",
       "    <tr style=\"text-align: right;\">\n",
       "      <th></th>\n",
       "      <th>Water in ml</th>\n",
       "    </tr>\n",
       "  </thead>\n",
       "  <tbody>\n",
       "    <tr>\n",
       "      <th>count</th>\n",
       "      <td>25.000000</td>\n",
       "    </tr>\n",
       "    <tr>\n",
       "      <th>mean</th>\n",
       "      <td>497.280000</td>\n",
       "    </tr>\n",
       "    <tr>\n",
       "      <th>std</th>\n",
       "      <td>8.648314</td>\n",
       "    </tr>\n",
       "    <tr>\n",
       "      <th>min</th>\n",
       "      <td>480.000000</td>\n",
       "    </tr>\n",
       "    <tr>\n",
       "      <th>25%</th>\n",
       "      <td>491.000000</td>\n",
       "    </tr>\n",
       "    <tr>\n",
       "      <th>50%</th>\n",
       "      <td>498.000000</td>\n",
       "    </tr>\n",
       "    <tr>\n",
       "      <th>75%</th>\n",
       "      <td>502.000000</td>\n",
       "    </tr>\n",
       "    <tr>\n",
       "      <th>max</th>\n",
       "      <td>515.000000</td>\n",
       "    </tr>\n",
       "  </tbody>\n",
       "</table>\n",
       "</div>"
      ],
      "text/plain": [
       "       Water in ml\n",
       "count    25.000000\n",
       "mean    497.280000\n",
       "std       8.648314\n",
       "min     480.000000\n",
       "25%     491.000000\n",
       "50%     498.000000\n",
       "75%     502.000000\n",
       "max     515.000000"
      ]
     },
     "execution_count": 14,
     "metadata": {},
     "output_type": "execute_result"
    }
   ],
   "source": [
    "df.describe()"
   ]
  },
  {
   "cell_type": "markdown",
   "id": "82738c64",
   "metadata": {},
   "source": [
    "## Q5. To perform appropriate test statistics, pval,CI and dof using one sample ttest and our population mean=500ml."
   ]
  },
  {
   "cell_type": "code",
   "execution_count": 15,
   "id": "49ac2e37",
   "metadata": {},
   "outputs": [
    {
     "data": {
      "text/html": [
       "<div>\n",
       "<style scoped>\n",
       "    .dataframe tbody tr th:only-of-type {\n",
       "        vertical-align: middle;\n",
       "    }\n",
       "\n",
       "    .dataframe tbody tr th {\n",
       "        vertical-align: top;\n",
       "    }\n",
       "\n",
       "    .dataframe thead th {\n",
       "        text-align: right;\n",
       "    }\n",
       "</style>\n",
       "<table border=\"1\" class=\"dataframe\">\n",
       "  <thead>\n",
       "    <tr style=\"text-align: right;\">\n",
       "      <th></th>\n",
       "      <th>T</th>\n",
       "      <th>dof</th>\n",
       "      <th>alternative</th>\n",
       "      <th>p-val</th>\n",
       "      <th>CI95%</th>\n",
       "      <th>cohen-d</th>\n",
       "      <th>BF10</th>\n",
       "      <th>power</th>\n",
       "    </tr>\n",
       "  </thead>\n",
       "  <tbody>\n",
       "    <tr>\n",
       "      <th>T-test</th>\n",
       "      <td>-1.572561</td>\n",
       "      <td>24</td>\n",
       "      <td>two-sided</td>\n",
       "      <td>0.128912</td>\n",
       "      <td>[493.71, 500.85]</td>\n",
       "      <td>0.314512</td>\n",
       "      <td>0.622</td>\n",
       "      <td>0.326563</td>\n",
       "    </tr>\n",
       "  </tbody>\n",
       "</table>\n",
       "</div>"
      ],
      "text/plain": [
       "               T  dof alternative     p-val             CI95%   cohen-d  \\\n",
       "T-test -1.572561   24   two-sided  0.128912  [493.71, 500.85]  0.314512   \n",
       "\n",
       "         BF10     power  \n",
       "T-test  0.622  0.326563  "
      ]
     },
     "execution_count": 15,
     "metadata": {},
     "output_type": "execute_result"
    }
   ],
   "source": [
    "pg.ttest(df['Water in ml'],500)"
   ]
  }
 ],
 "metadata": {
  "kernelspec": {
   "display_name": "Python 3",
   "language": "python",
   "name": "python3"
  },
  "language_info": {
   "codemirror_mode": {
    "name": "ipython",
    "version": 3
   },
   "file_extension": ".py",
   "mimetype": "text/x-python",
   "name": "python",
   "nbconvert_exporter": "python",
   "pygments_lexer": "ipython3",
   "version": "3.8.8"
  }
 },
 "nbformat": 4,
 "nbformat_minor": 5
}
